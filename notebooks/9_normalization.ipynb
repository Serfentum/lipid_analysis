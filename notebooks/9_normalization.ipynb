{
 "cells": [
  {
   "cell_type": "markdown",
   "metadata": {},
   "source": [
    "# Normalization of intensities\n",
    "Due to the presence of nonnumeric data in intensity columns in df after appending metadata we have to subsetting columns and rows. Thus we have some inconvenienties, including necessity of transforming data from df after subsetting\n",
    "\n",
    "Perhaps diverse normalizations should be isolated"
   ]
  },
  {
   "cell_type": "code",
   "execution_count": 27,
   "metadata": {},
   "outputs": [],
   "source": [
    "import numpy as np\n",
    "import pandas as pd"
   ]
  },
  {
   "cell_type": "code",
   "execution_count": 28,
   "metadata": {},
   "outputs": [
    {
     "name": "stderr",
     "output_type": "stream",
     "text": [
      "/home/arleg/anaconda3/lib/python3.6/site-packages/IPython/core/interactiveshell.py:2728: DtypeWarning: Columns (0,9,10,11,12,13,14,15,16,17,18,19,20,21,22,23,24,25,26,27,28,29,30,31,32,33,34,35,36,37,38,39,40,41,42,43,44,45,46,47,48,49,50,51,52,53,54,55,56,57,58,59,60,61,62,63,64,65,66,67,68,69,70,71,72,73,74,75,76,77,78,79,80,81,82,83,84,85,86,87,88,89,90,91,92,93,94,95,96,97,98,99,100,101,102,103,104,105,106,107,108,109,110,111,112,113,114,115,116,117,118,119,120,121,122,123,124,125,126,127,128,129) have mixed types. Specify dtype option on import or set low_memory=False.\n",
      "  interactivity=interactivity, compiler=compiler, result=result)\n"
     ]
    }
   ],
   "source": [
    "%run 82_label_modifying.ipynb"
   ]
  },
  {
   "cell_type": "markdown",
   "metadata": {},
   "source": [
    "## 75 percentille normalization\n",
    "Find 75% for each peak and subtract it from values  \n",
    "Intensities have been already log-transformed, thus we substract instead of divide "
   ]
  },
  {
   "cell_type": "code",
   "execution_count": 29,
   "metadata": {},
   "outputs": [],
   "source": [
    "def percentille_normalization(df, q=0.75):\n",
    "    \"\"\"\n",
    "    Normalize intensities in dataframe by some of their order statistic, 75 by default\n",
    "    :param df: df - dataframe with all data\n",
    "    :param q: float - percentile which will be denominator\n",
    "    :return: df - normalized by percentile df\n",
    "    \"\"\"\n",
    "    df = df.copy()\n",
    "    df[samples] -= df[samples].quantile(q, axis=0)\n",
    "    return df"
   ]
  },
  {
   "cell_type": "markdown",
   "metadata": {},
   "source": [
    "Example of assignment normalized data to appropriate part of df. Dreary.\n",
    "\n",
    "`df.loc[df.index[:-meta], samples] = percentille_normalization(df.loc[:, samples].iloc[:-meta].astype(dtype='float'), 0.75)`\n",
    "\n",
    "Thus I have a function to compress typing"
   ]
  },
  {
   "cell_type": "code",
   "execution_count": 30,
   "metadata": {},
   "outputs": [],
   "source": [
    "def normalize(df, function, *args, **kwargs):\n",
    "    \"\"\"\n",
    "    Apply normalization function to subset of df, which is determined by samples and meta constants which should be\n",
    "    defined earlier\n",
    "    Modify input df\n",
    "    :param df: df - dataframe with all data\n",
    "    :param function: function - function which takes df and return df\n",
    "    :param args: sequence - list, tuple, set or str with parameters in the right order to function\n",
    "    :param kwargs: dict - dict with name: value of parameters to function\n",
    "    :return:\n",
    "    \"\"\"\n",
    "    df.loc[df.index[:-meta], samples] = function(df.loc[df.index[:-meta], samples].astype(dtype='float'), *args, **kwargs)\n",
    "\n",
    "\n",
    "def find_diff(df):\n",
    "    \"\"\"\n",
    "    Find number of rows for metainformation in df. This rows should located at the bottom of df\n",
    "    Assumes that only peak names contains numbers\n",
    "    Used for finding constant meta\n",
    "    :param df: df - dataframe with metadata\n",
    "    :return: int - number of rows which are taken by metadata\n",
    "    \"\"\"\n",
    "    meta = df.shape[0] - df.filter(regex=r'\\d+', axis=0).index.shape[0]\n",
    "    return meta"
   ]
  },
  {
   "cell_type": "markdown",
   "metadata": {},
   "source": [
    "## Internal standard normalization\n",
    "Partial information, positive mode data should be added.\n",
    "\n",
    "Standards in negative modes:\n",
    "* PG\n",
    "* PE\n",
    "* ceramide"
   ]
  },
  {
   "cell_type": "code",
   "execution_count": 31,
   "metadata": {},
   "outputs": [],
   "source": [
    "# mz of diverse standard adducts - H and Ac-H\n",
    "standard_mzs = {'pg': [709.55189, 769.57302], \n",
    "                'pe': [740.54648, 800.56761], \n",
    "                'ceramide': [529.53310, 589.55423]}"
   ]
  },
  {
   "cell_type": "markdown",
   "metadata": {},
   "source": [
    "Preciously written `normalize()` is not appropriate here because following functions need access to 'mz' column in dataframe. Because of that there is the function below.\n",
    "\n",
    "I was tired, and architecture there is not the best"
   ]
  },
  {
   "cell_type": "code",
   "execution_count": 32,
   "metadata": {},
   "outputs": [],
   "source": [
    "def normalize_with_access_to_all_cols(df, function, *args, **kwargs):\n",
    "    \"\"\"\n",
    "    Apply normalization function to subset of df, which is determined by samples and meta constants which should be\n",
    "    defined earlier\n",
    "    Modify input df\n",
    "    :param df: df - dataframe with all data\n",
    "    :param function: function - function which takes df and return df\n",
    "    :param args: sequence - list, tuple, set or str with parameters in the right order to function\n",
    "    :param kwargs: dict - dict with name: value of parameters to function\n",
    "    :return:\n",
    "    \"\"\"\n",
    "    df.iloc[:-meta] = function(df.iloc[:-meta].astype(dtype='float', errors='ignore'), *args, **kwargs)"
   ]
  },
  {
   "cell_type": "code",
   "execution_count": 33,
   "metadata": {},
   "outputs": [],
   "source": [
    "def standard_normalization(df, standard_mzs, precision=5):\n",
    "    \"\"\"\n",
    "    Normalize df by standard intensities. Throw an error if no standards were found. It should be refined I think.\n",
    "    Make loop with try block to reduce precision up to some value, after this perhaps we should return original df.\n",
    "    :param df: df - dataframe with all data\n",
    "    :param standard_mzs: dict - standard names and lists of their mzs\n",
    "    :param precision: int - number of digits to round mzs before comparison\n",
    "    :return: df - df with normalized intensities by standard intensities\n",
    "    \"\"\"\n",
    "    # Find standards\n",
    "    standards = find_standards(df, standard_mzs, precision)\n",
    "    # Select suitable standard\n",
    "    standard = select_standard(standards)\n",
    "    # Normalize by standard itensities\n",
    "    df = std_normalization(df, standard)\n",
    "    return df\n",
    "\n",
    "\n",
    "def std_normalization(df, standard):\n",
    "    \"\"\"\n",
    "    Divide intensities in df by standard intensities\n",
    "    :param df: df - dataframe with all data\n",
    "    :param standard: series - series with standard intensities\n",
    "    :return: df - normalized by standard concentrations df\n",
    "    \"\"\"\n",
    "    df = df.copy()\n",
    "    \n",
    "    # Extract np array with values from standard series\n",
    "    standard = standard[samples].values.reshape(-1)\n",
    "    # Subtract standard intensities from values\n",
    "    df[samples] = df[samples].astype('float', errors='ignore').subtract(standard, axis=1)\n",
    "    return df\n",
    "\n",
    "\n",
    "def select_standard(standards):\n",
    "    \"\"\"\n",
    "    Function to select some standard intensities between all. Now it is just maximal intensities from all standards\n",
    "    :param standards: df - dataframe with standards intensities\n",
    "    :return: series - series with selected intensities\n",
    "    \"\"\"\n",
    "    # Select maximal intensities from all standards\n",
    "    return standards.astype('float', errors='ignore').max()\n",
    "\n",
    "\n",
    "def find_standards(df, standard_mzs, precision=5):\n",
    "    \"\"\"\n",
    "    Find standard's peaks in df given dictionary with their mzs\n",
    "    :param df: df - dataframe with data\n",
    "    :param standard_mzs: dict - standard names and lists of their mzs\n",
    "    :param precision: int - number of digits to round mzs before comparison, 5 by default\n",
    "    :return: df - dataframe with rows from original corresponding to standards\n",
    "    \"\"\"\n",
    "    # Create empty df for standards\n",
    "    stands = pd.DataFrame()\n",
    "    \n",
    "    # Compare mzs of all standards with peak's and write ones with equal to standard mzs to df\n",
    "    for standard, mzs in standard_mzs.items():\n",
    "        for mz in mzs:\n",
    "            p = df['mz'].round(precision) == np.round(mz, precision)\n",
    "            stands = stands.append(df[p])\n",
    "    \n",
    "    # Check whether some standards are present\n",
    "    assert not stands.empty, 'No standards was found in df!\\nTry less strict precision'\n",
    "    return stands"
   ]
  },
  {
   "cell_type": "markdown",
   "metadata": {},
   "source": [
    "## Mass normalization"
   ]
  },
  {
   "cell_type": "markdown",
   "metadata": {},
   "source": [
    "Functions `normalize()`, `normalize_with_access_to_all_cols()` and `mass_normalization()` are very similar - main difference in passed range which is accessible to function. Perhaps they should be refactored in 1 function with 'range' argument"
   ]
  },
  {
   "cell_type": "code",
   "execution_count": 34,
   "metadata": {},
   "outputs": [],
   "source": [
    "def normalize_by_mass(df, mass_row_name='mass'):\n",
    "    \"\"\"\n",
    "    Apply mass normalization function to subset of df, which is determined by samples, samples_with_mass and meta\n",
    "    constants which should be defined earlier. Samples should be an Index object.\n",
    "    Perhaps we should remake these functions to take all that independent constants\n",
    "    Modify input df\n",
    "    :param df: df - dataframe with all data\n",
    "    :param mass_row_name: str - name of row with mass data\n",
    "    :return:\n",
    "    \"\"\"\n",
    "    # Select intensities of samples\n",
    "    samples_intensities = prepare_intensities(df)\n",
    "    # Pick masses of samples\n",
    "    masses = prepare_mass(df, mass_row_name)\n",
    "    # Normalize\n",
    "    df.loc[df.index[:-meta], samples[samples_with_mass]] = mass_norm(samples_intensities, masses)\n",
    "\n",
    "\n",
    "def mass_norm(samples_intensities, masses):\n",
    "    \"\"\"\n",
    "    Perform normalization by mass\n",
    "    :param samples_intensities: df - dataframe with intensities of samples with known mass in float format\n",
    "    :param masses: series - series with mass data, which is converted to float\n",
    "    :return: df - dataframe with intensities normalized by mass\n",
    "    \"\"\"\n",
    "    # Log transform mass because it is not scaled but data is\n",
    "    return samples_intensities - masses.apply(np.log)\n",
    "\n",
    "\n",
    "def prepare_mass(df, mass_row_name='mass'):\n",
    "    \"\"\"\n",
    "    Get mass data from df\n",
    "    :param df: df - dataframe with merged metadata\n",
    "    :param mass_row_name: str - name of row with mass data\n",
    "    :return: series - series with mass data, which is converted to float\n",
    "    \"\"\"\n",
    "    # samples_with_mass should be defined\n",
    "    # Pick masses of samples and convert them to float\n",
    "    masses = df.loc[mass_row_name, samples_with_mass[samples_with_mass].index]\n",
    "    masses = masses.astype('float')\n",
    "    return masses\n",
    "\n",
    "\n",
    "def prepare_intensities(df):\n",
    "    \"\"\"\n",
    "    Get data with intensities of samples with known mass from df\n",
    "    :param df: df - dataframe with merged metadata\n",
    "    :return: df - subset of passed into df with intensities, which are converted to floats\n",
    "    \"\"\"\n",
    "    # Select intensities of samples with mass and convert them to float\n",
    "    samples_intensities = df.loc[df.index[:-meta], samples].loc[:, samples_with_mass]\n",
    "    samples_intensities = samples_intensities.astype('float')\n",
    "    return samples_intensities"
   ]
  },
  {
   "cell_type": "markdown",
   "metadata": {},
   "source": [
    "## Example of usage with writing normalized dataset"
   ]
  },
  {
   "cell_type": "code",
   "execution_count": 35,
   "metadata": {},
   "outputs": [],
   "source": [
    "# # Load data\n",
    "# name = 'with_meta_log_transformed_substituted_NA_cleaned_control_cleaned_isotopes_cleaned_contaminants_xs_annotated_rats_neg.csv'\n",
    "# df = pd.read_csv(name, index_col=0)\n",
    "\n",
    "# # Preliminaries\n",
    "# # Find number of rows with metadata in df\n",
    "# meta = find_diff(df)\n",
    "# # Convert samples to index object\n",
    "# samples = pd.Index(samples)\n",
    "# # Whether samples contain mass\n",
    "# samples_with_mass = ~df.loc['mass', samples].isna()\n",
    "\n",
    "\n",
    "# normalize(df, percentille_normalization)"
   ]
  },
  {
   "cell_type": "code",
   "execution_count": 36,
   "metadata": {},
   "outputs": [
    {
     "name": "stderr",
     "output_type": "stream",
     "text": [
      "/home/arleg/anaconda3/lib/python3.6/site-packages/IPython/core/interactiveshell.py:2728: DtypeWarning: Columns (0,9,10,11,12,13,14,15,16,17,18,19,20,21,22,23,24,25,26,27,28,29,30,31,32,33,34,35,36,37,38,39,40,41,42,43,44,45,46,47,48,49,50,51,52,53,54,55,56,57,58,59,60,61,62,63,64,65,66,67,68,69,70,71,72,73,74,75,76,77,78,79,80,81,82,83,84,85,86,87,88,89,90,91,92,93,94,95,96,97,98,99,100,101,102,103,104,105,106,107,108,109,110,111,112,113,114,115,116,117,118,119,120,121,122,123,124,125,126,127,128,129) have mixed types. Specify dtype option on import or set low_memory=False.\n",
      "  interactivity=interactivity, compiler=compiler, result=result)\n"
     ]
    }
   ],
   "source": [
    "# Load data\n",
    "name = 'with_meta_log_transformed_substituted_NA_cleaned_control_cleaned_isotopes_cleaned_contaminants_xs_annotated_rats_neg.csv'\n",
    "df = pd.read_csv(name, index_col=0)\n",
    "\n",
    "# Preliminaries\n",
    "# Find number of rows with metadata in df\n",
    "meta = find_diff(df)\n",
    "# Convert samples to index object\n",
    "samples = pd.Index(samples)\n",
    "# Whether samples contain mass\n",
    "samples_with_mass = ~df.loc['mass', samples].isna()\n",
    "\n",
    "# Normalizations\n",
    "# Normalizing by 3rd quartile\n",
    "normalize(df, percentille_normalization)\n",
    "# Normalizing by standard intensities\n",
    "normalize_with_access_to_all_cols(df, standard_normalization, standard_mzs)\n",
    "# Normalize by mass\n",
    "normalize_by_mass(df)\n",
    "\n",
    "\n",
    "# Obsolete\n",
    "# df = percentille_normalization(df)\n",
    "# df = standard_normalization(df, stands)\n",
    "\n",
    "# Write to a file\n",
    "df.to_csv(f'normalized_{name}')"
   ]
  },
  {
   "cell_type": "code",
   "execution_count": null,
   "metadata": {},
   "outputs": [],
   "source": []
  }
 ],
 "metadata": {
  "kernelspec": {
   "display_name": "Python 3",
   "language": "python",
   "name": "python3"
  },
  "language_info": {
   "codemirror_mode": {
    "name": "ipython",
    "version": 3
   },
   "file_extension": ".py",
   "mimetype": "text/x-python",
   "name": "python",
   "nbconvert_exporter": "python",
   "pygments_lexer": "ipython3",
   "version": "3.6.4"
  }
 },
 "nbformat": 4,
 "nbformat_minor": 2
}
