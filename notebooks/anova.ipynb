{
 "cells": [
  {
   "cell_type": "markdown",
   "metadata": {},
   "source": [
    "# Anova analysis\n",
    "Takes df with meta after all preprocessing steps"
   ]
  },
  {
   "cell_type": "code",
   "execution_count": 411,
   "metadata": {},
   "outputs": [],
   "source": [
    "import numpy as np\n",
    "import pandas as pd\n",
    "import statsmodels.api as sm\n",
    "import statsmodels.formula.api as smf\n",
    "from statsmodels.stats.multitest import multipletests"
   ]
  },
  {
   "cell_type": "code",
   "execution_count": 412,
   "metadata": {},
   "outputs": [
    {
     "name": "stderr",
     "output_type": "stream",
     "text": [
      "/home/arleg/anaconda3/lib/python3.6/site-packages/IPython/core/interactiveshell.py:2728: DtypeWarning: Columns (0,9,10,11,12,13,14,15,16,17,18,19,20,21,22,23,24,25,26,27,28,29,30,31,32,33,34,35,36,37,38,39,40,41,42,43,44,45,46,47,48,49,50,51,52,53,54,55,56,57,58,59,60,61,62,63,64,65,66,67,68,69,70,71,72,73,74,75,76,77,78,79,80,81,82,83,84,85,86,87,88,89,90,91,92,93,94,95,96,97,98,99,100,101,102,103,104,105,106,107,108,109,110,111,112,113,114,115,116,117,118,119,120,121,122,123,124,125,126,127,128,129) have mixed types. Specify dtype option on import or set low_memory=False.\n",
      "  interactivity=interactivity, compiler=compiler, result=result)\n"
     ]
    }
   ],
   "source": [
    "%run 82_label_modifying.ipynb"
   ]
  },
  {
   "cell_type": "markdown",
   "metadata": {},
   "source": [
    "## Load data"
   ]
  },
  {
   "cell_type": "code",
   "execution_count": 413,
   "metadata": {},
   "outputs": [
    {
     "name": "stderr",
     "output_type": "stream",
     "text": [
      "/home/arleg/anaconda3/lib/python3.6/site-packages/IPython/core/interactiveshell.py:2728: DtypeWarning: Columns (0,9,10,11,12,13,14,15,16,17,18,19,20,21,22,23,24,25,26,27,28,29,30,31,32,33,34,35,36,37,38,39,40,41,42,43,44,45,46,47,48,49,50,51,52,53,54,55,56,57,58,59,60,61,62,63,64,65,66,67,68,69,70,71,72,73,74,75,76,77,78,79,80,81,82,83,84,85,86,87,88,89,90,91,92,93,94,95,96,97,98,99,100,101,102,103,104,105,106,107,108,109,110,111,112,113,114,115,116,117,118,119,120,121,122,123,124,125,126,127,128,129) have mixed types. Specify dtype option on import or set low_memory=False.\n",
      "  interactivity=interactivity, compiler=compiler, result=result)\n"
     ]
    }
   ],
   "source": [
    "name = 'normalized_with_meta_log_transformed_substituted_NA_cleaned_control_cleaned_isotopes_cleaned_contaminants_xs_annotated_rats_neg.csv'\n",
    "df = pd.read_csv(name, index_col=0)"
   ]
  },
  {
   "cell_type": "code",
   "execution_count": 414,
   "metadata": {},
   "outputs": [],
   "source": [
    "# Unrelevant columns and rowws\n",
    "non_peaks = ['mz', 'mzmin', 'mzmax', 'rt', 'rtmin', 'rtmax', 'npeaks', 'samples', 'isotopes', 'adduct', 'pcgroup']\n",
    "unrelevant_features = ['id', 'mass']"
   ]
  },
  {
   "cell_type": "code",
   "execution_count": 415,
   "metadata": {},
   "outputs": [],
   "source": [
    "# Get rid of unrelevant peaks and rows\n",
    "df = df.drop(non_peaks, axis=1)\n",
    "df = df.drop(unrelevant_features, axis=0)"
   ]
  },
  {
   "cell_type": "code",
   "execution_count": 416,
   "metadata": {},
   "outputs": [],
   "source": [
    "# Transpose df\n",
    "df = df.T\n",
    "\n",
    "# Kill NA\n",
    "df.dropna(axis=0, subset=['age'], inplace=True)\n",
    "# Convert intensities to float\n",
    "df = df.apply(lambda x: pd.to_numeric(x, errors='ignore'))"
   ]
  },
  {
   "cell_type": "markdown",
   "metadata": {},
   "source": [
    "## Anova of all rats"
   ]
  },
  {
   "cell_type": "code",
   "execution_count": 417,
   "metadata": {},
   "outputs": [
    {
     "data": {
      "text/html": [
       "<div>\n",
       "<style scoped>\n",
       "    .dataframe tbody tr th:only-of-type {\n",
       "        vertical-align: middle;\n",
       "    }\n",
       "\n",
       "    .dataframe tbody tr th {\n",
       "        vertical-align: top;\n",
       "    }\n",
       "\n",
       "    .dataframe thead tr th {\n",
       "        text-align: left;\n",
       "    }\n",
       "\n",
       "    .dataframe thead tr:last-of-type th {\n",
       "        text-align: right;\n",
       "    }\n",
       "</style>\n",
       "<table border=\"1\" class=\"dataframe\">\n",
       "  <thead>\n",
       "    <tr>\n",
       "      <th></th>\n",
       "      <th colspan=\"5\" halign=\"left\">19</th>\n",
       "    </tr>\n",
       "    <tr>\n",
       "      <th>tissue</th>\n",
       "      <th>brain_cb</th>\n",
       "      <th>brain_pfc</th>\n",
       "      <th>liver</th>\n",
       "      <th>muscle</th>\n",
       "      <th>plasma</th>\n",
       "    </tr>\n",
       "    <tr>\n",
       "      <th>age</th>\n",
       "      <th></th>\n",
       "      <th></th>\n",
       "      <th></th>\n",
       "      <th></th>\n",
       "      <th></th>\n",
       "    </tr>\n",
       "  </thead>\n",
       "  <tbody>\n",
       "    <tr>\n",
       "      <th>old_1</th>\n",
       "      <td>6</td>\n",
       "      <td>5</td>\n",
       "      <td>2</td>\n",
       "      <td>6</td>\n",
       "      <td>6</td>\n",
       "    </tr>\n",
       "    <tr>\n",
       "      <th>old_2</th>\n",
       "      <td>6</td>\n",
       "      <td>6</td>\n",
       "      <td>5</td>\n",
       "      <td>5</td>\n",
       "      <td>6</td>\n",
       "    </tr>\n",
       "    <tr>\n",
       "      <th>young</th>\n",
       "      <td>6</td>\n",
       "      <td>6</td>\n",
       "      <td>3</td>\n",
       "      <td>7</td>\n",
       "      <td>6</td>\n",
       "    </tr>\n",
       "  </tbody>\n",
       "</table>\n",
       "</div>"
      ],
      "text/plain": [
       "             19                              \n",
       "tissue brain_cb brain_pfc liver muscle plasma\n",
       "age                                          \n",
       "old_1         6         5     2      6      6\n",
       "old_2         6         6     5      5      6\n",
       "young         6         6     3      7      6"
      ]
     },
     "execution_count": 417,
     "metadata": {},
     "output_type": "execute_result"
    }
   ],
   "source": [
    "# Look at the number of samples per each age-tissue group\n",
    "xx = df[[19, 'tissue', 'age']]\n",
    "xx.pivot_table(index=['age'], columns='tissue', aggfunc='count')"
   ]
  },
  {
   "cell_type": "code",
   "execution_count": 561,
   "metadata": {},
   "outputs": [],
   "source": [
    "def anova(df, variables, interaction='double'):\n",
    "    \"\"\"\n",
    "    Conduct anova for each column on columns in variables - each column in df except those which are in variables will\n",
    "    be analysed vs those in variables\n",
    "    Assumes that there are 2 non numeric columns which are the last at df. Should be fixed (probably with re)\n",
    "    :param df: df - dataframe, which contains all aforementioned columns\n",
    "    :param variables: list - list with column names which will be used in anova\n",
    "    :param interaction: str - one of 'no', 'double' and 'multiple' denoting type of interaction\n",
    "    :return: df - dataframe with shape len(variables) + their interactions X len(df.columns) - len(varibles) with\n",
    "    p-value for each analysis\n",
    "    \"\"\"\n",
    "    # Create df for p-values of all interactions in anova\n",
    "    pvs = pd.DataFrame()\n",
    "\n",
    "    # Conduct anova for each peak by age and tissue with interaction and add information to dataframe\n",
    "    for peak in df.columns[:-2]:\n",
    "        formula = construct_formula(peak, variables, interaction=interaction)\n",
    "        model = smf.ols(formula, df).fit()\n",
    "        \n",
    "        # Take column with p-value for each of group\n",
    "        analysis = sm.stats.anova_lm(model)['PR(>F)'].drop('Residual')\n",
    "        pvs[peak] = analysis\n",
    "    return pvs"
   ]
  },
  {
   "cell_type": "code",
   "execution_count": 440,
   "metadata": {},
   "outputs": [],
   "source": [
    "def construct_formula(y, xs, interaction='double'):\n",
    "    \"\"\"\n",
    "    Create formula string for patsy in statsmodels\n",
    "    :param y: str - name of dependent column\n",
    "    :param xs: iterable - list with names of dependent columns\n",
    "    :param interaction: str - one of 'no', 'double' and 'multiple' - whether formula will contain interaction terms\n",
    "    :return: str - formula for statsmodels\n",
    "    \"\"\"\n",
    "    # Convert numeric terms to appropriate form\n",
    "    y = numeric_term(y)\n",
    "    xs = list(map(numeric_term, xs))\n",
    "    \n",
    "    # Construct formula\n",
    "    formula = interactions(y, xs, interaction)\n",
    "    return formula\n",
    "\n",
    "\n",
    "def interactions(y, xs, interaction):\n",
    "    \"\"\"\n",
    "    Construct the formula depending on interaction type\n",
    "    :param y: str - name of dependent column\n",
    "    :param xs: iterable - list with names of dependent columns\n",
    "    :param interaction: str - one of 'no', 'double' and 'multiple' - whether formula will contain interaction terms\n",
    "    :return: str - formula for statsmodels\n",
    "    \"\"\"\n",
    "    # Define formaulae for different interaction types and return appropriate\n",
    "    interaction_types = {'multiple': f'{y} ~ ({\" + \".join(xs)}) ** {len(xs)}',\n",
    "                         'double': f'{y} ~ ({\" + \".join(xs)}) ** 2',\n",
    "                         'no': f'{y} ~ {\" + \".join(xs)}'}\n",
    "    return interaction_types[interaction]\n",
    "\n",
    "\n",
    "def numeric_term(x):\n",
    "    \"\"\"\n",
    "    Convert numeric term in formula to appropriate form for patsy\n",
    "    If term is non-numeric it will be returned\n",
    "    :param x: str - name of column\n",
    "    :return: str - term in appropriate form\n",
    "    \"\"\"\n",
    "    # For int numeric terms\n",
    "    if isinstance(x, int):\n",
    "        return f'Q({x})'\n",
    "    # For str numeric terms\n",
    "    elif x.isdigit():\n",
    "        return f'Q(\"{x}\")'\n",
    "    return x"
   ]
  },
  {
   "cell_type": "code",
   "execution_count": 441,
   "metadata": {},
   "outputs": [],
   "source": [
    "def conduct_anova_for_all_peaks_vs_some_variables(df, variables, interaction='double'):\n",
    "    \"\"\"\n",
    "    Conduct anova for each peak in df vs columns listed in variables\n",
    "    :param df: dataframe - df with samples - rows and peaks and features - columns (normal form)\n",
    "    :param variables: list - list with column names which will be used in anova\n",
    "    :param interaction: str - one of 'no', 'double' and 'multiple' denoting type of interaction\n",
    "    :return: masked dataframe with shape len(variables) + their interactions X len(df.columns) - len(varibles) with\n",
    "    adjusted p-value for each analysis\n",
    "    \"\"\"\n",
    "    # Get p-values for each analysis\n",
    "    pvs = anova(df, variables, interaction)\n",
    "    # Flatten p-value df into 1-dimensional array\n",
    "    p_values = pvs.values.ravel()\n",
    "\n",
    "    # Adjust p-values with Benjamini/Hochberg procedure\n",
    "    p_values_corrected = multipletests(p_values, method='fdr_tsbh')\n",
    "    bool_p = p_values_corrected[0].reshape(pvs.shape)\n",
    "    cor_p = p_values_corrected[1].reshape(pvs.shape)\n",
    "    # Create df with adjusted p-values and mask that which are higher than 0.05\n",
    "    p_values_corrected = pd.DataFrame(cor_p, columns=pvs.columns, index=pvs.index)\n",
    "    p_value_appropriate = p_values_corrected[pd.DataFrame(bool_p, columns=pvs.columns, index=pvs.index)]\n",
    "    return p_value_appropriate"
   ]
  },
  {
   "cell_type": "markdown",
   "metadata": {},
   "source": [
    "## p-value correction"
   ]
  },
  {
   "cell_type": "code",
   "execution_count": 432,
   "metadata": {},
   "outputs": [],
   "source": [
    "# Get p-values for each analysis\n",
    "pvs = anova(df, ['tissue', 'age'], interaction='double')"
   ]
  },
  {
   "cell_type": "code",
   "execution_count": 433,
   "metadata": {},
   "outputs": [],
   "source": [
    "# Flatten p-value df into 1-dimensional array\n",
    "# They are stacked in this manner: 1st row...2nd row...3rd row - shape is (1, everything)\n",
    "p_values = pvs.values.ravel()"
   ]
  },
  {
   "cell_type": "code",
   "execution_count": 434,
   "metadata": {},
   "outputs": [],
   "source": [
    "# First element is an array with indication whether the p-value is appropriate according to Benjamini/Hochberg\n",
    "p_values_corrected = multipletests(p_values, method='fdr_tsbh')"
   ]
  },
  {
   "cell_type": "code",
   "execution_count": 435,
   "metadata": {},
   "outputs": [],
   "source": [
    "# Obtain a df where all insignificant p-values are masked with NA\n",
    "bool_p = p_values_corrected[0].reshape((3, 4233))\n",
    "cor_p = p_values_corrected[1].reshape((3, 4233))\n",
    "p_values_corrected = pd.DataFrame(cor_p, columns=pvs.columns, index=pvs.index)\n",
    "p_value_appropriate = p_values_corrected[pd.DataFrame(bool_p, columns=pvs.columns, index=pvs.index)]"
   ]
  },
  {
   "cell_type": "code",
   "execution_count": 436,
   "metadata": {},
   "outputs": [
    {
     "data": {
      "text/html": [
       "<div>\n",
       "<style scoped>\n",
       "    .dataframe tbody tr th:only-of-type {\n",
       "        vertical-align: middle;\n",
       "    }\n",
       "\n",
       "    .dataframe tbody tr th {\n",
       "        vertical-align: top;\n",
       "    }\n",
       "\n",
       "    .dataframe thead th {\n",
       "        text-align: right;\n",
       "    }\n",
       "</style>\n",
       "<table border=\"1\" class=\"dataframe\">\n",
       "  <thead>\n",
       "    <tr style=\"text-align: right;\">\n",
       "      <th></th>\n",
       "      <th>19</th>\n",
       "      <th>1855</th>\n",
       "      <th>1920</th>\n",
       "      <th>1928</th>\n",
       "      <th>1962</th>\n",
       "      <th>1970</th>\n",
       "      <th>1987</th>\n",
       "      <th>2060</th>\n",
       "      <th>2231</th>\n",
       "      <th>2272</th>\n",
       "      <th>...</th>\n",
       "      <th>9623</th>\n",
       "      <th>9624</th>\n",
       "      <th>9625</th>\n",
       "      <th>9626</th>\n",
       "      <th>9627</th>\n",
       "      <th>9628</th>\n",
       "      <th>9629</th>\n",
       "      <th>9630</th>\n",
       "      <th>9631</th>\n",
       "      <th>9633</th>\n",
       "    </tr>\n",
       "  </thead>\n",
       "  <tbody>\n",
       "    <tr>\n",
       "      <th>tissue</th>\n",
       "      <td>1.152835e-28</td>\n",
       "      <td>4.337263e-25</td>\n",
       "      <td>4.896027e-22</td>\n",
       "      <td>6.972622e-30</td>\n",
       "      <td>1.920721e-22</td>\n",
       "      <td>1.032768e-23</td>\n",
       "      <td>4.436472e-26</td>\n",
       "      <td>1.564014e-20</td>\n",
       "      <td>1.607652e-26</td>\n",
       "      <td>6.108033e-21</td>\n",
       "      <td>...</td>\n",
       "      <td>4.339157e-26</td>\n",
       "      <td>2.189962e-24</td>\n",
       "      <td>5.610653e-24</td>\n",
       "      <td>1.153352e-21</td>\n",
       "      <td>9.603303e-21</td>\n",
       "      <td>1.227601e-25</td>\n",
       "      <td>2.068044e-22</td>\n",
       "      <td>1.137953e-20</td>\n",
       "      <td>1.048761e-16</td>\n",
       "      <td>3.812030e-22</td>\n",
       "    </tr>\n",
       "    <tr>\n",
       "      <th>age</th>\n",
       "      <td>NaN</td>\n",
       "      <td>NaN</td>\n",
       "      <td>NaN</td>\n",
       "      <td>NaN</td>\n",
       "      <td>NaN</td>\n",
       "      <td>NaN</td>\n",
       "      <td>NaN</td>\n",
       "      <td>NaN</td>\n",
       "      <td>NaN</td>\n",
       "      <td>NaN</td>\n",
       "      <td>...</td>\n",
       "      <td>NaN</td>\n",
       "      <td>NaN</td>\n",
       "      <td>NaN</td>\n",
       "      <td>NaN</td>\n",
       "      <td>NaN</td>\n",
       "      <td>NaN</td>\n",
       "      <td>NaN</td>\n",
       "      <td>NaN</td>\n",
       "      <td>NaN</td>\n",
       "      <td>NaN</td>\n",
       "    </tr>\n",
       "    <tr>\n",
       "      <th>tissue:age</th>\n",
       "      <td>NaN</td>\n",
       "      <td>NaN</td>\n",
       "      <td>NaN</td>\n",
       "      <td>NaN</td>\n",
       "      <td>NaN</td>\n",
       "      <td>NaN</td>\n",
       "      <td>NaN</td>\n",
       "      <td>NaN</td>\n",
       "      <td>NaN</td>\n",
       "      <td>NaN</td>\n",
       "      <td>...</td>\n",
       "      <td>NaN</td>\n",
       "      <td>NaN</td>\n",
       "      <td>NaN</td>\n",
       "      <td>NaN</td>\n",
       "      <td>NaN</td>\n",
       "      <td>NaN</td>\n",
       "      <td>NaN</td>\n",
       "      <td>NaN</td>\n",
       "      <td>NaN</td>\n",
       "      <td>NaN</td>\n",
       "    </tr>\n",
       "  </tbody>\n",
       "</table>\n",
       "<p>3 rows × 4233 columns</p>\n",
       "</div>"
      ],
      "text/plain": [
       "                      19          1855          1920          1928  \\\n",
       "tissue      1.152835e-28  4.337263e-25  4.896027e-22  6.972622e-30   \n",
       "age                  NaN           NaN           NaN           NaN   \n",
       "tissue:age           NaN           NaN           NaN           NaN   \n",
       "\n",
       "                    1962          1970          1987          2060  \\\n",
       "tissue      1.920721e-22  1.032768e-23  4.436472e-26  1.564014e-20   \n",
       "age                  NaN           NaN           NaN           NaN   \n",
       "tissue:age           NaN           NaN           NaN           NaN   \n",
       "\n",
       "                    2231          2272      ...               9623  \\\n",
       "tissue      1.607652e-26  6.108033e-21      ...       4.339157e-26   \n",
       "age                  NaN           NaN      ...                NaN   \n",
       "tissue:age           NaN           NaN      ...                NaN   \n",
       "\n",
       "                    9624          9625          9626          9627  \\\n",
       "tissue      2.189962e-24  5.610653e-24  1.153352e-21  9.603303e-21   \n",
       "age                  NaN           NaN           NaN           NaN   \n",
       "tissue:age           NaN           NaN           NaN           NaN   \n",
       "\n",
       "                    9628          9629          9630          9631  \\\n",
       "tissue      1.227601e-25  2.068044e-22  1.137953e-20  1.048761e-16   \n",
       "age                  NaN           NaN           NaN           NaN   \n",
       "tissue:age           NaN           NaN           NaN           NaN   \n",
       "\n",
       "                    9633  \n",
       "tissue      3.812030e-22  \n",
       "age                  NaN  \n",
       "tissue:age           NaN  \n",
       "\n",
       "[3 rows x 4233 columns]"
      ]
     },
     "execution_count": 436,
     "metadata": {},
     "output_type": "execute_result"
    }
   ],
   "source": [
    "p_value_appropriate"
   ]
  },
  {
   "cell_type": "code",
   "execution_count": 437,
   "metadata": {},
   "outputs": [
    {
     "data": {
      "text/plain": [
       "tissue        4233\n",
       "age              6\n",
       "tissue:age       2\n",
       "dtype: int64"
      ]
     },
     "execution_count": 437,
     "metadata": {},
     "output_type": "execute_result"
    }
   ],
   "source": [
    "# Number of significant peaks per each category\n",
    "(~p_value_appropriate.isna()).sum(axis=1)"
   ]
  },
  {
   "cell_type": "code",
   "execution_count": 438,
   "metadata": {},
   "outputs": [
    {
     "data": {
      "text/plain": [
       "6397    0.032051\n",
       "3320    0.044094\n",
       "Name: tissue:age, dtype: float64"
      ]
     },
     "execution_count": 438,
     "metadata": {},
     "output_type": "execute_result"
    }
   ],
   "source": [
    "# Significant peaks in tissue-age interaction\n",
    "p_value_appropriate.loc['tissue:age'].dropna()"
   ]
  },
  {
   "cell_type": "code",
   "execution_count": 334,
   "metadata": {},
   "outputs": [
    {
     "data": {
      "text/plain": [
       "9280    0.022337\n",
       "5081    0.035734\n",
       "5083    0.046773\n",
       "5740    0.048114\n",
       "8051    0.040853\n",
       "9429    0.027782\n",
       "Name: age, dtype: float64"
      ]
     },
     "execution_count": 334,
     "metadata": {},
     "output_type": "execute_result"
    }
   ],
   "source": [
    "# Significant peaks in age\n",
    "p_value_appropriate.loc['age'].dropna()"
   ]
  },
  {
   "cell_type": "code",
   "execution_count": 327,
   "metadata": {},
   "outputs": [
    {
     "data": {
      "text/plain": [
       "Series([], Name: tissue, dtype: float64)"
      ]
     },
     "execution_count": 327,
     "metadata": {},
     "output_type": "execute_result"
    }
   ],
   "source": [
    "# Insignificant peaks in tissue\n",
    "p_value_appropriate.loc['tissue', p_value_appropriate.loc['tissue'].isna()]#dropna()"
   ]
  },
  {
   "cell_type": "markdown",
   "metadata": {},
   "source": [
    "## Anova on old rats"
   ]
  },
  {
   "cell_type": "code",
   "execution_count": 420,
   "metadata": {},
   "outputs": [],
   "source": [
    "# Get old rats which consist from rats with additional vitamin D and those without it\n",
    "olds_ind = df['age'] != 'young'\n",
    "olds = df[olds_ind]"
   ]
  },
  {
   "cell_type": "code",
   "execution_count": 348,
   "metadata": {},
   "outputs": [],
   "source": [
    "# Get adjusted p-values for significant ones\n",
    "variables = ['tissue', 'age']\n",
    "olds_p_value = conduct_anova_for_all_peaks_vs_some_variables(olds, variables, interaction='double')"
   ]
  },
  {
   "cell_type": "code",
   "execution_count": 355,
   "metadata": {},
   "outputs": [
    {
     "data": {
      "text/plain": [
       "tissue        4233\n",
       "age              3\n",
       "tissue:age       8\n",
       "dtype: int64"
      ]
     },
     "execution_count": 355,
     "metadata": {},
     "output_type": "execute_result"
    }
   ],
   "source": [
    "# Number of significant peaks per each category\n",
    "(~olds_p_value.isna()).sum(axis=1)"
   ]
  },
  {
   "cell_type": "code",
   "execution_count": 360,
   "metadata": {},
   "outputs": [
    {
     "data": {
      "text/plain": [
       "6397    0.007791\n",
       "3320    0.043994\n",
       "4706    0.044562\n",
       "5687    0.045455\n",
       "6371    0.022324\n",
       "6396    0.013412\n",
       "6424    0.020898\n",
       "7264    0.035128\n",
       "Name: tissue:age, dtype: float64"
      ]
     },
     "execution_count": 360,
     "metadata": {},
     "output_type": "execute_result"
    }
   ],
   "source": [
    "# Significant peaks in tissue-age interaction\n",
    "olds_p_value.loc['tissue:age'].dropna()"
   ]
  },
  {
   "cell_type": "code",
   "execution_count": 387,
   "metadata": {},
   "outputs": [
    {
     "data": {
      "text/plain": [
       "6395    0.013865\n",
       "8052    0.048644\n",
       "8065    0.048779\n",
       "Name: age, dtype: float64"
      ]
     },
     "execution_count": 387,
     "metadata": {},
     "output_type": "execute_result"
    }
   ],
   "source": [
    "# Significant peaks in age\n",
    "olds_p_value.loc['age'].dropna()"
   ]
  },
  {
   "cell_type": "code",
   "execution_count": 358,
   "metadata": {},
   "outputs": [
    {
     "data": {
      "text/plain": [
       "Series([], Name: tissue, dtype: float64)"
      ]
     },
     "execution_count": 358,
     "metadata": {},
     "output_type": "execute_result"
    }
   ],
   "source": [
    "# Insignificant peaks in tissue\n",
    "olds_p_value.loc['tissue', olds_p_value.loc['tissue'].isna()]#dropna()"
   ]
  },
  {
   "cell_type": "markdown",
   "metadata": {},
   "source": [
    "## Anova by age for tissues separately"
   ]
  },
  {
   "cell_type": "markdown",
   "metadata": {},
   "source": [
    "## All rats with separate tissues"
   ]
  },
  {
   "cell_type": "code",
   "execution_count": 383,
   "metadata": {},
   "outputs": [
    {
     "name": "stderr",
     "output_type": "stream",
     "text": [
      "/home/arleg/anaconda3/lib/python3.6/site-packages/scipy/stats/_distn_infrastructure.py:879: RuntimeWarning: invalid value encountered in greater\n",
      "  return (self.a < x) & (x < self.b)\n",
      "/home/arleg/anaconda3/lib/python3.6/site-packages/scipy/stats/_distn_infrastructure.py:879: RuntimeWarning: invalid value encountered in less\n",
      "  return (self.a < x) & (x < self.b)\n",
      "/home/arleg/anaconda3/lib/python3.6/site-packages/scipy/stats/_distn_infrastructure.py:1821: RuntimeWarning: invalid value encountered in less_equal\n",
      "  cond2 = cond0 & (x <= self.a)\n",
      "/home/arleg/anaconda3/lib/python3.6/site-packages/statsmodels/stats/multitest.py:320: RuntimeWarning: invalid value encountered in less_equal\n",
      "  reject = pvals_sorted <= ecdffactor*alpha\n",
      "/home/arleg/anaconda3/lib/python3.6/site-packages/statsmodels/stats/multitest.py:251: RuntimeWarning: invalid value encountered in greater\n",
      "  pvals_corrected[pvals_corrected>1] = 1\n"
     ]
    }
   ],
   "source": [
    "anova_per_tissue = {}\n",
    "\n",
    "for tissue in df.tissue.unique():\n",
    "    ss = df[df['tissue'] == tissue]\n",
    "    anova_per_tissue[tissue] = conduct_anova_for_all_peaks_vs_some_variables(ss, ['age'])"
   ]
  },
  {
   "cell_type": "code",
   "execution_count": 391,
   "metadata": {},
   "outputs": [
    {
     "name": "stdout",
     "output_type": "stream",
     "text": [
      "brain_cb\n"
     ]
    },
    {
     "data": {
      "text/html": [
       "<div>\n",
       "<style scoped>\n",
       "    .dataframe tbody tr th:only-of-type {\n",
       "        vertical-align: middle;\n",
       "    }\n",
       "\n",
       "    .dataframe tbody tr th {\n",
       "        vertical-align: top;\n",
       "    }\n",
       "\n",
       "    .dataframe thead th {\n",
       "        text-align: right;\n",
       "    }\n",
       "</style>\n",
       "<table border=\"1\" class=\"dataframe\">\n",
       "  <thead>\n",
       "    <tr style=\"text-align: right;\">\n",
       "      <th></th>\n",
       "      <th>19</th>\n",
       "      <th>1855</th>\n",
       "      <th>1920</th>\n",
       "      <th>1928</th>\n",
       "      <th>1962</th>\n",
       "      <th>1970</th>\n",
       "      <th>1987</th>\n",
       "      <th>2060</th>\n",
       "      <th>2231</th>\n",
       "      <th>2272</th>\n",
       "      <th>...</th>\n",
       "      <th>9623</th>\n",
       "      <th>9624</th>\n",
       "      <th>9625</th>\n",
       "      <th>9626</th>\n",
       "      <th>9627</th>\n",
       "      <th>9628</th>\n",
       "      <th>9629</th>\n",
       "      <th>9630</th>\n",
       "      <th>9631</th>\n",
       "      <th>9633</th>\n",
       "    </tr>\n",
       "  </thead>\n",
       "  <tbody>\n",
       "    <tr>\n",
       "      <th>age</th>\n",
       "      <td>NaN</td>\n",
       "      <td>NaN</td>\n",
       "      <td>NaN</td>\n",
       "      <td>NaN</td>\n",
       "      <td>NaN</td>\n",
       "      <td>NaN</td>\n",
       "      <td>NaN</td>\n",
       "      <td>NaN</td>\n",
       "      <td>NaN</td>\n",
       "      <td>NaN</td>\n",
       "      <td>...</td>\n",
       "      <td>NaN</td>\n",
       "      <td>NaN</td>\n",
       "      <td>NaN</td>\n",
       "      <td>NaN</td>\n",
       "      <td>NaN</td>\n",
       "      <td>NaN</td>\n",
       "      <td>NaN</td>\n",
       "      <td>NaN</td>\n",
       "      <td>NaN</td>\n",
       "      <td>NaN</td>\n",
       "    </tr>\n",
       "  </tbody>\n",
       "</table>\n",
       "<p>1 rows × 4233 columns</p>\n",
       "</div>"
      ],
      "text/plain": [
       "     19  1855  1920  1928  1962  1970  1987  2060  2231  2272  ...   9623  \\\n",
       "age NaN   NaN   NaN   NaN   NaN   NaN   NaN   NaN   NaN   NaN  ...    NaN   \n",
       "\n",
       "     9624  9625  9626  9627  9628  9629  9630  9631  9633  \n",
       "age   NaN   NaN   NaN   NaN   NaN   NaN   NaN   NaN   NaN  \n",
       "\n",
       "[1 rows x 4233 columns]"
      ]
     },
     "metadata": {},
     "output_type": "execute_result"
    },
    {
     "data": {
      "text/plain": [
       "Series([], Name: age, dtype: float64)"
      ]
     },
     "metadata": {},
     "output_type": "display_data"
    },
    {
     "name": "stdout",
     "output_type": "stream",
     "text": [
      "brain_pfc\n"
     ]
    },
    {
     "data": {
      "text/html": [
       "<div>\n",
       "<style scoped>\n",
       "    .dataframe tbody tr th:only-of-type {\n",
       "        vertical-align: middle;\n",
       "    }\n",
       "\n",
       "    .dataframe tbody tr th {\n",
       "        vertical-align: top;\n",
       "    }\n",
       "\n",
       "    .dataframe thead th {\n",
       "        text-align: right;\n",
       "    }\n",
       "</style>\n",
       "<table border=\"1\" class=\"dataframe\">\n",
       "  <thead>\n",
       "    <tr style=\"text-align: right;\">\n",
       "      <th></th>\n",
       "      <th>19</th>\n",
       "      <th>1855</th>\n",
       "      <th>1920</th>\n",
       "      <th>1928</th>\n",
       "      <th>1962</th>\n",
       "      <th>1970</th>\n",
       "      <th>1987</th>\n",
       "      <th>2060</th>\n",
       "      <th>2231</th>\n",
       "      <th>2272</th>\n",
       "      <th>...</th>\n",
       "      <th>9623</th>\n",
       "      <th>9624</th>\n",
       "      <th>9625</th>\n",
       "      <th>9626</th>\n",
       "      <th>9627</th>\n",
       "      <th>9628</th>\n",
       "      <th>9629</th>\n",
       "      <th>9630</th>\n",
       "      <th>9631</th>\n",
       "      <th>9633</th>\n",
       "    </tr>\n",
       "  </thead>\n",
       "  <tbody>\n",
       "    <tr>\n",
       "      <th>age</th>\n",
       "      <td>NaN</td>\n",
       "      <td>NaN</td>\n",
       "      <td>NaN</td>\n",
       "      <td>NaN</td>\n",
       "      <td>NaN</td>\n",
       "      <td>NaN</td>\n",
       "      <td>NaN</td>\n",
       "      <td>NaN</td>\n",
       "      <td>NaN</td>\n",
       "      <td>NaN</td>\n",
       "      <td>...</td>\n",
       "      <td>NaN</td>\n",
       "      <td>NaN</td>\n",
       "      <td>NaN</td>\n",
       "      <td>NaN</td>\n",
       "      <td>NaN</td>\n",
       "      <td>NaN</td>\n",
       "      <td>NaN</td>\n",
       "      <td>NaN</td>\n",
       "      <td>NaN</td>\n",
       "      <td>NaN</td>\n",
       "    </tr>\n",
       "  </tbody>\n",
       "</table>\n",
       "<p>1 rows × 4233 columns</p>\n",
       "</div>"
      ],
      "text/plain": [
       "     19  1855  1920  1928  1962  1970  1987  2060  2231  2272  ...   9623  \\\n",
       "age NaN   NaN   NaN   NaN   NaN   NaN   NaN   NaN   NaN   NaN  ...    NaN   \n",
       "\n",
       "     9624  9625  9626  9627  9628  9629  9630  9631  9633  \n",
       "age   NaN   NaN   NaN   NaN   NaN   NaN   NaN   NaN   NaN  \n",
       "\n",
       "[1 rows x 4233 columns]"
      ]
     },
     "metadata": {},
     "output_type": "execute_result"
    },
    {
     "data": {
      "text/plain": [
       "Series([], Name: age, dtype: float64)"
      ]
     },
     "metadata": {},
     "output_type": "display_data"
    },
    {
     "name": "stdout",
     "output_type": "stream",
     "text": [
      "muscle\n"
     ]
    },
    {
     "data": {
      "text/html": [
       "<div>\n",
       "<style scoped>\n",
       "    .dataframe tbody tr th:only-of-type {\n",
       "        vertical-align: middle;\n",
       "    }\n",
       "\n",
       "    .dataframe tbody tr th {\n",
       "        vertical-align: top;\n",
       "    }\n",
       "\n",
       "    .dataframe thead th {\n",
       "        text-align: right;\n",
       "    }\n",
       "</style>\n",
       "<table border=\"1\" class=\"dataframe\">\n",
       "  <thead>\n",
       "    <tr style=\"text-align: right;\">\n",
       "      <th></th>\n",
       "      <th>19</th>\n",
       "      <th>1855</th>\n",
       "      <th>1920</th>\n",
       "      <th>1928</th>\n",
       "      <th>1962</th>\n",
       "      <th>1970</th>\n",
       "      <th>1987</th>\n",
       "      <th>2060</th>\n",
       "      <th>2231</th>\n",
       "      <th>2272</th>\n",
       "      <th>...</th>\n",
       "      <th>9623</th>\n",
       "      <th>9624</th>\n",
       "      <th>9625</th>\n",
       "      <th>9626</th>\n",
       "      <th>9627</th>\n",
       "      <th>9628</th>\n",
       "      <th>9629</th>\n",
       "      <th>9630</th>\n",
       "      <th>9631</th>\n",
       "      <th>9633</th>\n",
       "    </tr>\n",
       "  </thead>\n",
       "  <tbody>\n",
       "    <tr>\n",
       "      <th>age</th>\n",
       "      <td>NaN</td>\n",
       "      <td>NaN</td>\n",
       "      <td>NaN</td>\n",
       "      <td>NaN</td>\n",
       "      <td>NaN</td>\n",
       "      <td>NaN</td>\n",
       "      <td>NaN</td>\n",
       "      <td>NaN</td>\n",
       "      <td>NaN</td>\n",
       "      <td>NaN</td>\n",
       "      <td>...</td>\n",
       "      <td>NaN</td>\n",
       "      <td>NaN</td>\n",
       "      <td>NaN</td>\n",
       "      <td>NaN</td>\n",
       "      <td>NaN</td>\n",
       "      <td>NaN</td>\n",
       "      <td>NaN</td>\n",
       "      <td>NaN</td>\n",
       "      <td>NaN</td>\n",
       "      <td>NaN</td>\n",
       "    </tr>\n",
       "  </tbody>\n",
       "</table>\n",
       "<p>1 rows × 4233 columns</p>\n",
       "</div>"
      ],
      "text/plain": [
       "     19  1855  1920  1928  1962  1970  1987  2060  2231  2272  ...   9623  \\\n",
       "age NaN   NaN   NaN   NaN   NaN   NaN   NaN   NaN   NaN   NaN  ...    NaN   \n",
       "\n",
       "     9624  9625  9626  9627  9628  9629  9630  9631  9633  \n",
       "age   NaN   NaN   NaN   NaN   NaN   NaN   NaN   NaN   NaN  \n",
       "\n",
       "[1 rows x 4233 columns]"
      ]
     },
     "metadata": {},
     "output_type": "execute_result"
    },
    {
     "data": {
      "text/plain": [
       "Series([], Name: age, dtype: float64)"
      ]
     },
     "metadata": {},
     "output_type": "display_data"
    },
    {
     "name": "stdout",
     "output_type": "stream",
     "text": [
      "plasma\n"
     ]
    },
    {
     "data": {
      "text/html": [
       "<div>\n",
       "<style scoped>\n",
       "    .dataframe tbody tr th:only-of-type {\n",
       "        vertical-align: middle;\n",
       "    }\n",
       "\n",
       "    .dataframe tbody tr th {\n",
       "        vertical-align: top;\n",
       "    }\n",
       "\n",
       "    .dataframe thead th {\n",
       "        text-align: right;\n",
       "    }\n",
       "</style>\n",
       "<table border=\"1\" class=\"dataframe\">\n",
       "  <thead>\n",
       "    <tr style=\"text-align: right;\">\n",
       "      <th></th>\n",
       "      <th>19</th>\n",
       "      <th>1855</th>\n",
       "      <th>1920</th>\n",
       "      <th>1928</th>\n",
       "      <th>1962</th>\n",
       "      <th>1970</th>\n",
       "      <th>1987</th>\n",
       "      <th>2060</th>\n",
       "      <th>2231</th>\n",
       "      <th>2272</th>\n",
       "      <th>...</th>\n",
       "      <th>9623</th>\n",
       "      <th>9624</th>\n",
       "      <th>9625</th>\n",
       "      <th>9626</th>\n",
       "      <th>9627</th>\n",
       "      <th>9628</th>\n",
       "      <th>9629</th>\n",
       "      <th>9630</th>\n",
       "      <th>9631</th>\n",
       "      <th>9633</th>\n",
       "    </tr>\n",
       "  </thead>\n",
       "  <tbody>\n",
       "    <tr>\n",
       "      <th>age</th>\n",
       "      <td>NaN</td>\n",
       "      <td>NaN</td>\n",
       "      <td>NaN</td>\n",
       "      <td>NaN</td>\n",
       "      <td>NaN</td>\n",
       "      <td>NaN</td>\n",
       "      <td>NaN</td>\n",
       "      <td>NaN</td>\n",
       "      <td>NaN</td>\n",
       "      <td>NaN</td>\n",
       "      <td>...</td>\n",
       "      <td>NaN</td>\n",
       "      <td>NaN</td>\n",
       "      <td>NaN</td>\n",
       "      <td>NaN</td>\n",
       "      <td>NaN</td>\n",
       "      <td>NaN</td>\n",
       "      <td>NaN</td>\n",
       "      <td>NaN</td>\n",
       "      <td>NaN</td>\n",
       "      <td>NaN</td>\n",
       "    </tr>\n",
       "  </tbody>\n",
       "</table>\n",
       "<p>1 rows × 4233 columns</p>\n",
       "</div>"
      ],
      "text/plain": [
       "     19  1855  1920  1928  1962  1970  1987  2060  2231  2272  ...   9623  \\\n",
       "age NaN   NaN   NaN   NaN   NaN   NaN   NaN   NaN   NaN   NaN  ...    NaN   \n",
       "\n",
       "     9624  9625  9626  9627  9628  9629  9630  9631  9633  \n",
       "age   NaN   NaN   NaN   NaN   NaN   NaN   NaN   NaN   NaN  \n",
       "\n",
       "[1 rows x 4233 columns]"
      ]
     },
     "metadata": {},
     "output_type": "execute_result"
    },
    {
     "data": {
      "text/plain": [
       "Series([], Name: age, dtype: float64)"
      ]
     },
     "metadata": {},
     "output_type": "display_data"
    },
    {
     "name": "stdout",
     "output_type": "stream",
     "text": [
      "liver\n"
     ]
    },
    {
     "data": {
      "text/html": [
       "<div>\n",
       "<style scoped>\n",
       "    .dataframe tbody tr th:only-of-type {\n",
       "        vertical-align: middle;\n",
       "    }\n",
       "\n",
       "    .dataframe tbody tr th {\n",
       "        vertical-align: top;\n",
       "    }\n",
       "\n",
       "    .dataframe thead th {\n",
       "        text-align: right;\n",
       "    }\n",
       "</style>\n",
       "<table border=\"1\" class=\"dataframe\">\n",
       "  <thead>\n",
       "    <tr style=\"text-align: right;\">\n",
       "      <th></th>\n",
       "      <th>19</th>\n",
       "      <th>1855</th>\n",
       "      <th>1920</th>\n",
       "      <th>1928</th>\n",
       "      <th>1962</th>\n",
       "      <th>1970</th>\n",
       "      <th>1987</th>\n",
       "      <th>2060</th>\n",
       "      <th>2231</th>\n",
       "      <th>2272</th>\n",
       "      <th>...</th>\n",
       "      <th>9623</th>\n",
       "      <th>9624</th>\n",
       "      <th>9625</th>\n",
       "      <th>9626</th>\n",
       "      <th>9627</th>\n",
       "      <th>9628</th>\n",
       "      <th>9629</th>\n",
       "      <th>9630</th>\n",
       "      <th>9631</th>\n",
       "      <th>9633</th>\n",
       "    </tr>\n",
       "  </thead>\n",
       "  <tbody>\n",
       "    <tr>\n",
       "      <th>age</th>\n",
       "      <td>NaN</td>\n",
       "      <td>NaN</td>\n",
       "      <td>NaN</td>\n",
       "      <td>NaN</td>\n",
       "      <td>NaN</td>\n",
       "      <td>NaN</td>\n",
       "      <td>NaN</td>\n",
       "      <td>NaN</td>\n",
       "      <td>NaN</td>\n",
       "      <td>NaN</td>\n",
       "      <td>...</td>\n",
       "      <td>NaN</td>\n",
       "      <td>NaN</td>\n",
       "      <td>NaN</td>\n",
       "      <td>NaN</td>\n",
       "      <td>NaN</td>\n",
       "      <td>NaN</td>\n",
       "      <td>NaN</td>\n",
       "      <td>NaN</td>\n",
       "      <td>NaN</td>\n",
       "      <td>NaN</td>\n",
       "    </tr>\n",
       "  </tbody>\n",
       "</table>\n",
       "<p>1 rows × 4233 columns</p>\n",
       "</div>"
      ],
      "text/plain": [
       "     19  1855  1920  1928  1962  1970  1987  2060  2231  2272  ...   9623  \\\n",
       "age NaN   NaN   NaN   NaN   NaN   NaN   NaN   NaN   NaN   NaN  ...    NaN   \n",
       "\n",
       "     9624  9625  9626  9627  9628  9629  9630  9631  9633  \n",
       "age   NaN   NaN   NaN   NaN   NaN   NaN   NaN   NaN   NaN  \n",
       "\n",
       "[1 rows x 4233 columns]"
      ]
     },
     "metadata": {},
     "output_type": "execute_result"
    },
    {
     "data": {
      "text/plain": [
       "Series([], Name: age, dtype: float64)"
      ]
     },
     "metadata": {},
     "output_type": "display_data"
    }
   ],
   "source": [
    "# Display significant p-values\n",
    "for k, v in anova_per_tissue.items():\n",
    "    print(k)\n",
    "    display(v)\n",
    "    display(v.loc['age'].dropna())"
   ]
  },
  {
   "cell_type": "markdown",
   "metadata": {},
   "source": [
    "## Only old with separate tissues"
   ]
  },
  {
   "cell_type": "code",
   "execution_count": 427,
   "metadata": {},
   "outputs": [
    {
     "name": "stderr",
     "output_type": "stream",
     "text": [
      "/home/arleg/anaconda3/lib/python3.6/site-packages/scipy/stats/_distn_infrastructure.py:879: RuntimeWarning: invalid value encountered in greater\n",
      "  return (self.a < x) & (x < self.b)\n",
      "/home/arleg/anaconda3/lib/python3.6/site-packages/scipy/stats/_distn_infrastructure.py:879: RuntimeWarning: invalid value encountered in less\n",
      "  return (self.a < x) & (x < self.b)\n",
      "/home/arleg/anaconda3/lib/python3.6/site-packages/scipy/stats/_distn_infrastructure.py:1821: RuntimeWarning: invalid value encountered in less_equal\n",
      "  cond2 = cond0 & (x <= self.a)\n",
      "/home/arleg/anaconda3/lib/python3.6/site-packages/statsmodels/stats/multitest.py:320: RuntimeWarning: invalid value encountered in less_equal\n",
      "  reject = pvals_sorted <= ecdffactor*alpha\n",
      "/home/arleg/anaconda3/lib/python3.6/site-packages/statsmodels/stats/multitest.py:251: RuntimeWarning: invalid value encountered in greater\n",
      "  pvals_corrected[pvals_corrected>1] = 1\n"
     ]
    }
   ],
   "source": [
    "anova_olds_per_tissue = {}\n",
    "\n",
    "for tissue in df.tissue.unique():\n",
    "    ss = olds[olds['tissue'] == tissue]\n",
    "    anova_olds_per_tissue[tissue] = conduct_anova_for_all_peaks_vs_some_variables(ss, ['age'])"
   ]
  },
  {
   "cell_type": "code",
   "execution_count": 428,
   "metadata": {},
   "outputs": [
    {
     "name": "stdout",
     "output_type": "stream",
     "text": [
      "brain_cb\n"
     ]
    },
    {
     "data": {
      "text/html": [
       "<div>\n",
       "<style scoped>\n",
       "    .dataframe tbody tr th:only-of-type {\n",
       "        vertical-align: middle;\n",
       "    }\n",
       "\n",
       "    .dataframe tbody tr th {\n",
       "        vertical-align: top;\n",
       "    }\n",
       "\n",
       "    .dataframe thead th {\n",
       "        text-align: right;\n",
       "    }\n",
       "</style>\n",
       "<table border=\"1\" class=\"dataframe\">\n",
       "  <thead>\n",
       "    <tr style=\"text-align: right;\">\n",
       "      <th></th>\n",
       "      <th>19</th>\n",
       "      <th>1855</th>\n",
       "      <th>1920</th>\n",
       "      <th>1928</th>\n",
       "      <th>1962</th>\n",
       "      <th>1970</th>\n",
       "      <th>1987</th>\n",
       "      <th>2060</th>\n",
       "      <th>2231</th>\n",
       "      <th>2272</th>\n",
       "      <th>...</th>\n",
       "      <th>9623</th>\n",
       "      <th>9624</th>\n",
       "      <th>9625</th>\n",
       "      <th>9626</th>\n",
       "      <th>9627</th>\n",
       "      <th>9628</th>\n",
       "      <th>9629</th>\n",
       "      <th>9630</th>\n",
       "      <th>9631</th>\n",
       "      <th>9633</th>\n",
       "    </tr>\n",
       "  </thead>\n",
       "  <tbody>\n",
       "    <tr>\n",
       "      <th>age</th>\n",
       "      <td>NaN</td>\n",
       "      <td>NaN</td>\n",
       "      <td>NaN</td>\n",
       "      <td>NaN</td>\n",
       "      <td>NaN</td>\n",
       "      <td>NaN</td>\n",
       "      <td>NaN</td>\n",
       "      <td>NaN</td>\n",
       "      <td>NaN</td>\n",
       "      <td>NaN</td>\n",
       "      <td>...</td>\n",
       "      <td>NaN</td>\n",
       "      <td>NaN</td>\n",
       "      <td>NaN</td>\n",
       "      <td>NaN</td>\n",
       "      <td>NaN</td>\n",
       "      <td>NaN</td>\n",
       "      <td>NaN</td>\n",
       "      <td>NaN</td>\n",
       "      <td>NaN</td>\n",
       "      <td>NaN</td>\n",
       "    </tr>\n",
       "  </tbody>\n",
       "</table>\n",
       "<p>1 rows × 4233 columns</p>\n",
       "</div>"
      ],
      "text/plain": [
       "     19  1855  1920  1928  1962  1970  1987  2060  2231  2272  ...   9623  \\\n",
       "age NaN   NaN   NaN   NaN   NaN   NaN   NaN   NaN   NaN   NaN  ...    NaN   \n",
       "\n",
       "     9624  9625  9626  9627  9628  9629  9630  9631  9633  \n",
       "age   NaN   NaN   NaN   NaN   NaN   NaN   NaN   NaN   NaN  \n",
       "\n",
       "[1 rows x 4233 columns]"
      ]
     },
     "metadata": {},
     "output_type": "execute_result"
    },
    {
     "data": {
      "text/plain": [
       "Series([], Name: age, dtype: float64)"
      ]
     },
     "metadata": {},
     "output_type": "display_data"
    },
    {
     "name": "stdout",
     "output_type": "stream",
     "text": [
      "brain_pfc\n"
     ]
    },
    {
     "data": {
      "text/html": [
       "<div>\n",
       "<style scoped>\n",
       "    .dataframe tbody tr th:only-of-type {\n",
       "        vertical-align: middle;\n",
       "    }\n",
       "\n",
       "    .dataframe tbody tr th {\n",
       "        vertical-align: top;\n",
       "    }\n",
       "\n",
       "    .dataframe thead th {\n",
       "        text-align: right;\n",
       "    }\n",
       "</style>\n",
       "<table border=\"1\" class=\"dataframe\">\n",
       "  <thead>\n",
       "    <tr style=\"text-align: right;\">\n",
       "      <th></th>\n",
       "      <th>19</th>\n",
       "      <th>1855</th>\n",
       "      <th>1920</th>\n",
       "      <th>1928</th>\n",
       "      <th>1962</th>\n",
       "      <th>1970</th>\n",
       "      <th>1987</th>\n",
       "      <th>2060</th>\n",
       "      <th>2231</th>\n",
       "      <th>2272</th>\n",
       "      <th>...</th>\n",
       "      <th>9623</th>\n",
       "      <th>9624</th>\n",
       "      <th>9625</th>\n",
       "      <th>9626</th>\n",
       "      <th>9627</th>\n",
       "      <th>9628</th>\n",
       "      <th>9629</th>\n",
       "      <th>9630</th>\n",
       "      <th>9631</th>\n",
       "      <th>9633</th>\n",
       "    </tr>\n",
       "  </thead>\n",
       "  <tbody>\n",
       "    <tr>\n",
       "      <th>age</th>\n",
       "      <td>NaN</td>\n",
       "      <td>NaN</td>\n",
       "      <td>NaN</td>\n",
       "      <td>NaN</td>\n",
       "      <td>NaN</td>\n",
       "      <td>NaN</td>\n",
       "      <td>NaN</td>\n",
       "      <td>NaN</td>\n",
       "      <td>NaN</td>\n",
       "      <td>NaN</td>\n",
       "      <td>...</td>\n",
       "      <td>NaN</td>\n",
       "      <td>NaN</td>\n",
       "      <td>NaN</td>\n",
       "      <td>NaN</td>\n",
       "      <td>NaN</td>\n",
       "      <td>NaN</td>\n",
       "      <td>NaN</td>\n",
       "      <td>NaN</td>\n",
       "      <td>NaN</td>\n",
       "      <td>NaN</td>\n",
       "    </tr>\n",
       "  </tbody>\n",
       "</table>\n",
       "<p>1 rows × 4233 columns</p>\n",
       "</div>"
      ],
      "text/plain": [
       "     19  1855  1920  1928  1962  1970  1987  2060  2231  2272  ...   9623  \\\n",
       "age NaN   NaN   NaN   NaN   NaN   NaN   NaN   NaN   NaN   NaN  ...    NaN   \n",
       "\n",
       "     9624  9625  9626  9627  9628  9629  9630  9631  9633  \n",
       "age   NaN   NaN   NaN   NaN   NaN   NaN   NaN   NaN   NaN  \n",
       "\n",
       "[1 rows x 4233 columns]"
      ]
     },
     "metadata": {},
     "output_type": "execute_result"
    },
    {
     "data": {
      "text/plain": [
       "Series([], Name: age, dtype: float64)"
      ]
     },
     "metadata": {},
     "output_type": "display_data"
    },
    {
     "name": "stdout",
     "output_type": "stream",
     "text": [
      "muscle\n"
     ]
    },
    {
     "data": {
      "text/html": [
       "<div>\n",
       "<style scoped>\n",
       "    .dataframe tbody tr th:only-of-type {\n",
       "        vertical-align: middle;\n",
       "    }\n",
       "\n",
       "    .dataframe tbody tr th {\n",
       "        vertical-align: top;\n",
       "    }\n",
       "\n",
       "    .dataframe thead th {\n",
       "        text-align: right;\n",
       "    }\n",
       "</style>\n",
       "<table border=\"1\" class=\"dataframe\">\n",
       "  <thead>\n",
       "    <tr style=\"text-align: right;\">\n",
       "      <th></th>\n",
       "      <th>19</th>\n",
       "      <th>1855</th>\n",
       "      <th>1920</th>\n",
       "      <th>1928</th>\n",
       "      <th>1962</th>\n",
       "      <th>1970</th>\n",
       "      <th>1987</th>\n",
       "      <th>2060</th>\n",
       "      <th>2231</th>\n",
       "      <th>2272</th>\n",
       "      <th>...</th>\n",
       "      <th>9623</th>\n",
       "      <th>9624</th>\n",
       "      <th>9625</th>\n",
       "      <th>9626</th>\n",
       "      <th>9627</th>\n",
       "      <th>9628</th>\n",
       "      <th>9629</th>\n",
       "      <th>9630</th>\n",
       "      <th>9631</th>\n",
       "      <th>9633</th>\n",
       "    </tr>\n",
       "  </thead>\n",
       "  <tbody>\n",
       "    <tr>\n",
       "      <th>age</th>\n",
       "      <td>NaN</td>\n",
       "      <td>NaN</td>\n",
       "      <td>NaN</td>\n",
       "      <td>NaN</td>\n",
       "      <td>NaN</td>\n",
       "      <td>NaN</td>\n",
       "      <td>NaN</td>\n",
       "      <td>NaN</td>\n",
       "      <td>NaN</td>\n",
       "      <td>NaN</td>\n",
       "      <td>...</td>\n",
       "      <td>NaN</td>\n",
       "      <td>NaN</td>\n",
       "      <td>NaN</td>\n",
       "      <td>NaN</td>\n",
       "      <td>NaN</td>\n",
       "      <td>NaN</td>\n",
       "      <td>NaN</td>\n",
       "      <td>NaN</td>\n",
       "      <td>NaN</td>\n",
       "      <td>NaN</td>\n",
       "    </tr>\n",
       "  </tbody>\n",
       "</table>\n",
       "<p>1 rows × 4233 columns</p>\n",
       "</div>"
      ],
      "text/plain": [
       "     19  1855  1920  1928  1962  1970  1987  2060  2231  2272  ...   9623  \\\n",
       "age NaN   NaN   NaN   NaN   NaN   NaN   NaN   NaN   NaN   NaN  ...    NaN   \n",
       "\n",
       "     9624  9625  9626  9627  9628  9629  9630  9631  9633  \n",
       "age   NaN   NaN   NaN   NaN   NaN   NaN   NaN   NaN   NaN  \n",
       "\n",
       "[1 rows x 4233 columns]"
      ]
     },
     "metadata": {},
     "output_type": "execute_result"
    },
    {
     "data": {
      "text/plain": [
       "6346    0.019059\n",
       "Name: age, dtype: float64"
      ]
     },
     "metadata": {},
     "output_type": "display_data"
    },
    {
     "name": "stdout",
     "output_type": "stream",
     "text": [
      "plasma\n"
     ]
    },
    {
     "data": {
      "text/html": [
       "<div>\n",
       "<style scoped>\n",
       "    .dataframe tbody tr th:only-of-type {\n",
       "        vertical-align: middle;\n",
       "    }\n",
       "\n",
       "    .dataframe tbody tr th {\n",
       "        vertical-align: top;\n",
       "    }\n",
       "\n",
       "    .dataframe thead th {\n",
       "        text-align: right;\n",
       "    }\n",
       "</style>\n",
       "<table border=\"1\" class=\"dataframe\">\n",
       "  <thead>\n",
       "    <tr style=\"text-align: right;\">\n",
       "      <th></th>\n",
       "      <th>19</th>\n",
       "      <th>1855</th>\n",
       "      <th>1920</th>\n",
       "      <th>1928</th>\n",
       "      <th>1962</th>\n",
       "      <th>1970</th>\n",
       "      <th>1987</th>\n",
       "      <th>2060</th>\n",
       "      <th>2231</th>\n",
       "      <th>2272</th>\n",
       "      <th>...</th>\n",
       "      <th>9623</th>\n",
       "      <th>9624</th>\n",
       "      <th>9625</th>\n",
       "      <th>9626</th>\n",
       "      <th>9627</th>\n",
       "      <th>9628</th>\n",
       "      <th>9629</th>\n",
       "      <th>9630</th>\n",
       "      <th>9631</th>\n",
       "      <th>9633</th>\n",
       "    </tr>\n",
       "  </thead>\n",
       "  <tbody>\n",
       "    <tr>\n",
       "      <th>age</th>\n",
       "      <td>NaN</td>\n",
       "      <td>NaN</td>\n",
       "      <td>NaN</td>\n",
       "      <td>NaN</td>\n",
       "      <td>NaN</td>\n",
       "      <td>NaN</td>\n",
       "      <td>NaN</td>\n",
       "      <td>NaN</td>\n",
       "      <td>NaN</td>\n",
       "      <td>NaN</td>\n",
       "      <td>...</td>\n",
       "      <td>NaN</td>\n",
       "      <td>NaN</td>\n",
       "      <td>NaN</td>\n",
       "      <td>NaN</td>\n",
       "      <td>NaN</td>\n",
       "      <td>NaN</td>\n",
       "      <td>NaN</td>\n",
       "      <td>NaN</td>\n",
       "      <td>NaN</td>\n",
       "      <td>NaN</td>\n",
       "    </tr>\n",
       "  </tbody>\n",
       "</table>\n",
       "<p>1 rows × 4233 columns</p>\n",
       "</div>"
      ],
      "text/plain": [
       "     19  1855  1920  1928  1962  1970  1987  2060  2231  2272  ...   9623  \\\n",
       "age NaN   NaN   NaN   NaN   NaN   NaN   NaN   NaN   NaN   NaN  ...    NaN   \n",
       "\n",
       "     9624  9625  9626  9627  9628  9629  9630  9631  9633  \n",
       "age   NaN   NaN   NaN   NaN   NaN   NaN   NaN   NaN   NaN  \n",
       "\n",
       "[1 rows x 4233 columns]"
      ]
     },
     "metadata": {},
     "output_type": "execute_result"
    },
    {
     "data": {
      "text/plain": [
       "Series([], Name: age, dtype: float64)"
      ]
     },
     "metadata": {},
     "output_type": "display_data"
    },
    {
     "name": "stdout",
     "output_type": "stream",
     "text": [
      "liver\n"
     ]
    },
    {
     "data": {
      "text/html": [
       "<div>\n",
       "<style scoped>\n",
       "    .dataframe tbody tr th:only-of-type {\n",
       "        vertical-align: middle;\n",
       "    }\n",
       "\n",
       "    .dataframe tbody tr th {\n",
       "        vertical-align: top;\n",
       "    }\n",
       "\n",
       "    .dataframe thead th {\n",
       "        text-align: right;\n",
       "    }\n",
       "</style>\n",
       "<table border=\"1\" class=\"dataframe\">\n",
       "  <thead>\n",
       "    <tr style=\"text-align: right;\">\n",
       "      <th></th>\n",
       "      <th>19</th>\n",
       "      <th>1855</th>\n",
       "      <th>1920</th>\n",
       "      <th>1928</th>\n",
       "      <th>1962</th>\n",
       "      <th>1970</th>\n",
       "      <th>1987</th>\n",
       "      <th>2060</th>\n",
       "      <th>2231</th>\n",
       "      <th>2272</th>\n",
       "      <th>...</th>\n",
       "      <th>9623</th>\n",
       "      <th>9624</th>\n",
       "      <th>9625</th>\n",
       "      <th>9626</th>\n",
       "      <th>9627</th>\n",
       "      <th>9628</th>\n",
       "      <th>9629</th>\n",
       "      <th>9630</th>\n",
       "      <th>9631</th>\n",
       "      <th>9633</th>\n",
       "    </tr>\n",
       "  </thead>\n",
       "  <tbody>\n",
       "    <tr>\n",
       "      <th>age</th>\n",
       "      <td>NaN</td>\n",
       "      <td>NaN</td>\n",
       "      <td>NaN</td>\n",
       "      <td>NaN</td>\n",
       "      <td>NaN</td>\n",
       "      <td>NaN</td>\n",
       "      <td>NaN</td>\n",
       "      <td>NaN</td>\n",
       "      <td>NaN</td>\n",
       "      <td>NaN</td>\n",
       "      <td>...</td>\n",
       "      <td>NaN</td>\n",
       "      <td>NaN</td>\n",
       "      <td>NaN</td>\n",
       "      <td>NaN</td>\n",
       "      <td>NaN</td>\n",
       "      <td>NaN</td>\n",
       "      <td>NaN</td>\n",
       "      <td>NaN</td>\n",
       "      <td>NaN</td>\n",
       "      <td>NaN</td>\n",
       "    </tr>\n",
       "  </tbody>\n",
       "</table>\n",
       "<p>1 rows × 4233 columns</p>\n",
       "</div>"
      ],
      "text/plain": [
       "     19  1855  1920  1928  1962  1970  1987  2060  2231  2272  ...   9623  \\\n",
       "age NaN   NaN   NaN   NaN   NaN   NaN   NaN   NaN   NaN   NaN  ...    NaN   \n",
       "\n",
       "     9624  9625  9626  9627  9628  9629  9630  9631  9633  \n",
       "age   NaN   NaN   NaN   NaN   NaN   NaN   NaN   NaN   NaN  \n",
       "\n",
       "[1 rows x 4233 columns]"
      ]
     },
     "metadata": {},
     "output_type": "execute_result"
    },
    {
     "data": {
      "text/plain": [
       "Series([], Name: age, dtype: float64)"
      ]
     },
     "metadata": {},
     "output_type": "display_data"
    }
   ],
   "source": [
    "# Display significant p-values\n",
    "for k, v in anova_olds_per_tissue.items():\n",
    "    print(k)\n",
    "    display(v)\n",
    "    display(v.loc['age'].dropna())"
   ]
  },
  {
   "cell_type": "markdown",
   "metadata": {},
   "source": [
    "## Results\n",
    "In anova with all age groups, tissues and their interactions difference in intensities in all peaks are significant for tissue.  \n",
    "Difference in **9280, 5081, 5083, 5740, 8051, 9429** peak intensities are significant for age and **6397, 3320** for age-tissue interaction\n",
    "\n",
    "Results for only old rats are almost the same - **6397, 3320, 4706, 5687, 6371, 6396, 6424, 7264** peak intensities are significant for age-tissue interaction, and **6395, 8052, 8065** are significant for age, meanwhile all peak intensities are significant for tissue.\n",
    "\n",
    "There is no peaks with significant difference in intensity between age groups if we conduct anova for each tissue separately and only 1 peak (**6346**) in *muscle* was considered significant when anova is conducted only on 2 old groups."
   ]
  },
  {
   "cell_type": "markdown",
   "metadata": {},
   "source": [
    "|type|significance type|significant peaks|\n",
    "|--|--|--|\n",
    "|everything with interactions|tissue|all|\n",
    "||age|9280, 5081, 5083, 5740, 8051, 9429|\n",
    "||tissue:age|6397, 3320|\n",
    "|only old rats with interactions|tissue|all|\n",
    "||age|6395, 8052, 8065|\n",
    "||tissue:age|6397, 3320, 4706, 5687, 6371, 6396, 6424, 7264|\n",
    "|everything with separate tissue|age|no|\n",
    "|only old rats with separate tissue|age|6346 in muscle|"
   ]
  },
  {
   "cell_type": "markdown",
   "metadata": {},
   "source": [
    "## Permutation test"
   ]
  },
  {
   "cell_type": "code",
   "execution_count": null,
   "metadata": {},
   "outputs": [],
   "source": [
    "def r():\n",
    "    pass"
   ]
  },
  {
   "cell_type": "code",
   "execution_count": 481,
   "metadata": {},
   "outputs": [],
   "source": [
    "results_permutation = pd.DataFrame(columns=['tissue', 'age', 'tissue:age'])"
   ]
  },
  {
   "cell_type": "code",
   "execution_count": 488,
   "metadata": {},
   "outputs": [],
   "source": [
    "results_permutation.loc[0] = (tt.loc['tissue'].dropna(), tt.loc['age'].dropna(), tt.loc['tissue:age'].dropna())"
   ]
  },
  {
   "cell_type": "code",
   "execution_count": 505,
   "metadata": {},
   "outputs": [
    {
     "data": {
      "text/plain": [
       "423     0.031631\n",
       "2504    0.036009\n",
       "2739    0.029662\n",
       "2858    0.044841\n",
       "2859    0.032130\n",
       "596     0.023528\n",
       "3244    0.004865\n",
       "3818    0.020588\n",
       "3822    0.022619\n",
       "3854    0.040298\n",
       "4205    0.016227\n",
       "4502    0.024895\n",
       "4890    0.046606\n",
       "4928    0.041318\n",
       "5434    0.019275\n",
       "5903    0.043804\n",
       "5980    0.008252\n",
       "6538    0.024877\n",
       "6541    0.032370\n",
       "6866    0.021198\n",
       "6994    0.025461\n",
       "6998    0.021087\n",
       "853     0.007311\n",
       "7115    0.033379\n",
       "7168    0.028155\n",
       "7780    0.032524\n",
       "7881    0.021570\n",
       "983     0.010819\n",
       "8030    0.033767\n",
       "8039    0.024585\n",
       "          ...   \n",
       "9351    0.031437\n",
       "9353    0.018629\n",
       "9355    0.016476\n",
       "9357    0.026022\n",
       "9366    0.030321\n",
       "9367    0.033689\n",
       "9373    0.048095\n",
       "9375    0.017388\n",
       "9376    0.041321\n",
       "9388    0.000903\n",
       "9391    0.016166\n",
       "9403    0.021140\n",
       "9404    0.033003\n",
       "9441    0.021583\n",
       "9458    0.048357\n",
       "9459    0.005638\n",
       "9462    0.003437\n",
       "9463    0.000626\n",
       "9466    0.047000\n",
       "9469    0.019379\n",
       "9470    0.016364\n",
       "9479    0.010637\n",
       "9480    0.025446\n",
       "9542    0.014804\n",
       "9543    0.034118\n",
       "9544    0.036232\n",
       "9545    0.018012\n",
       "9551    0.017863\n",
       "9573    0.048240\n",
       "9582    0.022682\n",
       "Name: age, Length: 714, dtype: float64"
      ]
     },
     "execution_count": 505,
     "metadata": {},
     "output_type": "execute_result"
    }
   ],
   "source": [
    "# Get peaks with p-value for 1 interaction in permutation\n",
    "results_permutation.loc[0, 'age']"
   ]
  },
  {
   "cell_type": "code",
   "execution_count": 482,
   "metadata": {},
   "outputs": [],
   "source": [
    "tt = conduct_anova_for_all_peaks_vs_some_variables(df, ['tissue', 'age'], interaction='double')"
   ]
  },
  {
   "cell_type": "code",
   "execution_count": 487,
   "metadata": {},
   "outputs": [
    {
     "data": {
      "text/plain": [
       "19      6.828173e-30\n",
       "1855    6.189234e-27\n",
       "1920    8.555087e-23\n",
       "1928    2.653187e-30\n",
       "1962    2.546763e-22\n",
       "1970    4.206670e-25\n",
       "1987    4.417430e-27\n",
       "2060    2.641804e-22\n",
       "2231    1.309296e-28\n",
       "2272    3.096498e-22\n",
       "423     7.240332e-29\n",
       "2281    3.785592e-23\n",
       "2295    3.184463e-23\n",
       "2324    4.322543e-27\n",
       "2372    6.415570e-22\n",
       "2375    4.047432e-21\n",
       "2504    2.822306e-22\n",
       "2537    1.633765e-20\n",
       "2609    1.819823e-35\n",
       "2650    3.276599e-25\n",
       "2665    3.093452e-30\n",
       "2723    9.832072e-20\n",
       "2739    5.121765e-25\n",
       "2741    2.236697e-21\n",
       "486     2.744770e-25\n",
       "2770    6.815683e-28\n",
       "2771    1.618044e-27\n",
       "2825    3.654110e-23\n",
       "2830    1.115354e-29\n",
       "2858    1.147432e-24\n",
       "            ...     \n",
       "9602    7.822912e-23\n",
       "9603    2.613825e-25\n",
       "9604    1.610182e-25\n",
       "9605    8.323726e-26\n",
       "9606    2.976897e-17\n",
       "9607    5.686975e-19\n",
       "9608    2.279523e-20\n",
       "9609    3.816506e-26\n",
       "9610    4.188142e-26\n",
       "9611    2.278853e-25\n",
       "9612    1.649399e-26\n",
       "9613    8.859805e-26\n",
       "9614    1.227445e-28\n",
       "9615    7.336399e-31\n",
       "9617    2.014794e-25\n",
       "9618    2.050275e-34\n",
       "9619    4.481551e-35\n",
       "9620    8.416228e-23\n",
       "9621    7.692981e-30\n",
       "9622    2.405394e-28\n",
       "9623    1.745536e-27\n",
       "9624    3.766530e-26\n",
       "9625    3.130536e-26\n",
       "9626    1.193498e-22\n",
       "9627    5.012442e-23\n",
       "9628    4.140376e-27\n",
       "9629    2.008333e-23\n",
       "9630    1.785305e-19\n",
       "9631    6.299661e-18\n",
       "9633    3.917436e-23\n",
       "Name: tissue, Length: 4233, dtype: float64"
      ]
     },
     "execution_count": 487,
     "metadata": {},
     "output_type": "execute_result"
    }
   ],
   "source": [
    "tt.loc['tissue'].dropna()"
   ]
  },
  {
   "cell_type": "code",
   "execution_count": 517,
   "metadata": {},
   "outputs": [
    {
     "name": "stdout",
     "output_type": "stream",
     "text": [
      "200th launch is done\n",
      "300th launch is done\n",
      "400th launch is done\n",
      "500th launch is done\n"
     ]
    }
   ],
   "source": [
    "n = 500\n",
    "variables = ['tissue', 'age']\n",
    "\n",
    "# Conduct anova n times\n",
    "for i in range(102, n + 1):\n",
    "    # Shuffle age labels\n",
    "    np.random.shuffle(df.age.values)\n",
    "    # Compute BH corrected p-values\n",
    "    p_vals = conduct_anova_for_all_peaks_vs_some_variables(df, variables, interaction='double')\n",
    "    # Store significant peaks in result dataframe\n",
    "    results_permutation.loc[i] = (p_vals.loc['tissue'].dropna(), p_vals.loc['age'].dropna(), p_vals.loc['tissue:age'].dropna())\n",
    "    if i % 100 == 0:\n",
    "        print(f'{i}th launch is done')"
   ]
  },
  {
   "cell_type": "code",
   "execution_count": 548,
   "metadata": {},
   "outputs": [
    {
     "data": {
      "text/plain": [
       "<matplotlib.axes._subplots.AxesSubplot at 0x7f111d318e80>"
      ]
     },
     "execution_count": 548,
     "metadata": {},
     "output_type": "execute_result"
    },
    {
     "data": {
      "image/png": "[encoded data removed]",
      "text/plain": [
       "<matplotlib.figure.Figure at 0x7f111cd42b00>"
      ]
     },
     "metadata": {},
     "output_type": "display_data"
    }
   ],
   "source": [
    "results_permutation.apply(lambda x: x.str.len())['age'].plot(kind='box')"
   ]
  },
  {
   "cell_type": "code",
   "execution_count": 549,
   "metadata": {},
   "outputs": [
    {
     "data": {
      "text/plain": [
       "count     500.000000\n",
       "mean      160.048000\n",
       "std       357.649398\n",
       "min         0.000000\n",
       "25%        10.000000\n",
       "50%        28.000000\n",
       "75%       115.250000\n",
       "max      2866.000000\n",
       "Name: age, dtype: float64"
      ]
     },
     "execution_count": 549,
     "metadata": {},
     "output_type": "execute_result"
    }
   ],
   "source": [
    "results_permutation.apply(lambda x: x.str.len())['age'].describe()"
   ]
  },
  {
   "cell_type": "code",
   "execution_count": 553,
   "metadata": {},
   "outputs": [
    {
     "data": {
      "text/plain": [
       "0.882"
      ]
     },
     "execution_count": 553,
     "metadata": {},
     "output_type": "execute_result"
    }
   ],
   "source": [
    "(results_permutation.apply(lambda x: x.str.len())['age'] >= 6).sum() / results_permutation.shape[0]"
   ]
  },
  {
   "cell_type": "code",
   "execution_count": 546,
   "metadata": {},
   "outputs": [
    {
     "data": {
      "image/png": "[encoded data removed]",
      "text/plain": [
       "<matplotlib.figure.Figure at 0x7f111d4d4e80>"
      ]
     },
     "metadata": {},
     "output_type": "display_data"
    }
   ],
   "source": [
    "import matplotlib.pyplot as plt\n",
    "results_permutation.apply(lambda x: x.str.len())['age'].plot(kind='hist', figsize=(12, 8)) #, bins=200\n",
    "# plt.xscale('log')\n",
    "# plt.xlim(xmin=0, xmax=960)\n",
    "# plt.xticks(range(0, 960, 10), rotation=90);\n",
    "# plt.xlabel()\n",
    "# results_permutation.apply(lambda x: x.str.len()).describe()"
   ]
  },
  {
   "cell_type": "code",
   "execution_count": 520,
   "metadata": {},
   "outputs": [
    {
     "data": {
      "text/plain": [
       "6397    0.007791\n",
       "3320    0.043994\n",
       "4706    0.044562\n",
       "5687    0.045455\n",
       "6371    0.022324\n",
       "6396    0.013412\n",
       "6424    0.020898\n",
       "7264    0.035128\n",
       "Name: tissue:age, dtype: float64"
      ]
     },
     "execution_count": 520,
     "metadata": {},
     "output_type": "execute_result"
    }
   ],
   "source": [
    "# Significant peaks in tissue-age interaction\n",
    "olds_p_value.loc['tissue:age'].dropna()"
   ]
  },
  {
   "cell_type": "code",
   "execution_count": 387,
   "metadata": {},
   "outputs": [
    {
     "data": {
      "text/plain": [
       "6395    0.013865\n",
       "8052    0.048644\n",
       "8065    0.048779\n",
       "Name: age, dtype: float64"
      ]
     },
     "execution_count": 387,
     "metadata": {},
     "output_type": "execute_result"
    }
   ],
   "source": [
    "# Significant peaks in age\n",
    "olds_p_value.loc['age'].dropna()"
   ]
  },
  {
   "cell_type": "code",
   "execution_count": 443,
   "metadata": {},
   "outputs": [
    {
     "data": {
      "text/plain": [
       "old_2    28\n",
       "young    28\n",
       "old_1    25\n",
       "Name: age, dtype: int64"
      ]
     },
     "execution_count": 443,
     "metadata": {},
     "output_type": "execute_result"
    }
   ],
   "source": [
    "df.age.value_counts()"
   ]
  },
  {
   "cell_type": "code",
   "execution_count": 463,
   "metadata": {},
   "outputs": [
    {
     "data": {
      "text/plain": [
       "array(['old_1', 'young', 'old_2', 'old_2', 'old_1', 'old_1', 'old_2',\n",
       "       'old_2', 'young', 'old_2', 'old_1', 'young', 'old_2', 'young',\n",
       "       'old_2', 'old_1', 'old_2', 'old_1', 'old_2', 'young', 'old_2',\n",
       "       'young', 'young', 'young', 'young', 'young', 'old_1', 'young',\n",
       "       'old_2', 'old_1', 'young', 'young', 'young', 'old_1', 'old_2',\n",
       "       'old_2', 'old_2', 'young', 'old_1', 'old_1', 'old_1', 'young',\n",
       "       'young', 'old_2', 'young', 'old_2', 'old_2', 'old_1', 'old_2',\n",
       "       'old_1', 'old_2', 'young', 'old_1', 'young', 'young', 'old_1',\n",
       "       'old_2', 'old_1', 'old_1', 'old_2', 'young', 'old_2', 'young',\n",
       "       'young', 'old_2', 'old_2', 'old_1', 'old_1', 'old_2', 'old_1',\n",
       "       'young', 'young', 'young', 'old_2', 'old_2', 'old_1', 'young',\n",
       "       'old_1', 'old_1', 'old_1', 'old_2'], dtype=object)"
      ]
     },
     "execution_count": 463,
     "metadata": {},
     "output_type": "execute_result"
    }
   ],
   "source": [
    "df.age.values"
   ]
  },
  {
   "cell_type": "code",
   "execution_count": 461,
   "metadata": {},
   "outputs": [],
   "source": []
  },
  {
   "cell_type": "code",
   "execution_count": 462,
   "metadata": {},
   "outputs": [
    {
     "data": {
      "text/plain": [
       "array(['old_1', 'young', 'old_2', 'old_2', 'old_1', 'old_1', 'old_2',\n",
       "       'old_2', 'young', 'old_2', 'old_1', 'young', 'old_2', 'young',\n",
       "       'old_2', 'old_1', 'old_2', 'old_1', 'old_2', 'young', 'old_2',\n",
       "       'young', 'young', 'young', 'young', 'young', 'old_1', 'young',\n",
       "       'old_2', 'old_1', 'young', 'young', 'young', 'old_1', 'old_2',\n",
       "       'old_2', 'old_2', 'young', 'old_1', 'old_1', 'old_1', 'young',\n",
       "       'young', 'old_2', 'young', 'old_2', 'old_2', 'old_1', 'old_2',\n",
       "       'old_1', 'old_2', 'young', 'old_1', 'young', 'young', 'old_1',\n",
       "       'old_2', 'old_1', 'old_1', 'old_2', 'young', 'old_2', 'young',\n",
       "       'young', 'old_2', 'old_2', 'old_1', 'old_1', 'old_2', 'old_1',\n",
       "       'young', 'young', 'young', 'old_2', 'old_2', 'old_1', 'young',\n",
       "       'old_1', 'old_1', 'old_1', 'old_2'], dtype=object)"
      ]
     },
     "execution_count": 462,
     "metadata": {},
     "output_type": "execute_result"
    }
   ],
   "source": [
    "perm_labs"
   ]
  },
  {
   "cell_type": "code",
   "execution_count": 59,
   "metadata": {},
   "outputs": [],
   "source": [
    "# mm = sm.OLS(prp2['age'].values, prp2.drop('age', axis=1).values).fit()\n",
    "\n",
    "# Works!\n",
    "# mm = smf.ols('age ~ cc', prp2).fit() # 1\n",
    "# mm = smf.ols('age ~ cc + Q(\"19\") + cc:Q(\"19\")', prp2).fit() # 2 w interactions\n",
    "# mm = smf.ols('age ~ cc * Q(\"19\")', prp2).fit()"
   ]
  }
 ],
 "metadata": {
  "kernelspec": {
   "display_name": "Python 3",
   "language": "python",
   "name": "python3"
  },
  "language_info": {
   "codemirror_mode": {
    "name": "ipython",
    "version": 3
   },
   "file_extension": ".py",
   "mimetype": "text/x-python",
   "name": "python",
   "nbconvert_exporter": "python",
   "pygments_lexer": "ipython3",
   "version": "3.6.4"
  }
 },
 "nbformat": 4,
 "nbformat_minor": 2
}
