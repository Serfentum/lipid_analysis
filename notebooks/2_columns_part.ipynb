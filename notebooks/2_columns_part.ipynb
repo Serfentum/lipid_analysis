{
 "cells": [
  {
   "cell_type": "markdown",
   "metadata": {},
   "source": [
    "# Column division\n",
    "Divide columns into groups depending on their meaning"
   ]
  },
  {
   "cell_type": "code",
   "execution_count": 5,
   "metadata": {},
   "outputs": [],
   "source": [
    "import numpy as np\n",
    "import pandas as pd\n",
    "import re"
   ]
  },
  {
   "cell_type": "code",
   "execution_count": 2,
   "metadata": {},
   "outputs": [],
   "source": [
    "name = 'cleaned_contaminants_xs_annotated_rats_neg.csv'\n",
    "df = pd.read_csv(name, index_col=0)"
   ]
  },
  {
   "cell_type": "code",
   "execution_count": 6,
   "metadata": {},
   "outputs": [],
   "source": [
    "# MANUAL\n",
    "# Divide columns into groups\n",
    "\n",
    "# Blank controls\n",
    "pat = re.compile(r'blank', re.I)\n",
    "blanks = df.filter(regex=pat).columns\n",
    "\n",
    "# Quality controls\n",
    "pat = re.compile(r'qc', re.I)\n",
    "qc_controls = df.filter(regex=pat).columns\n",
    "\n",
    "# Washes\n",
    "pat = re.compile(r'wash', re.I)\n",
    "washes = df.filter(regex=pat).columns\n",
    "\n",
    "# Diverse columns without concentration\n",
    "other_columns = {'mz', 'mzmin', 'mzmax', 'rt', 'rtmin', 'rtmax', 'npeaks', \n",
    "                 'samples', 'isotopes', 'adduct', 'pcgroup'}\n",
    "\n",
    "# All samples including controls and without all of them except qc\n",
    "samples = list(set(df.columns).difference(other_columns))\n",
    "\n",
    "samples_wo_controls_qc = list(set(samples).difference(blanks)\n",
    "                                          .difference(washes)) "
   ]
  }
 ],
 "metadata": {
  "kernelspec": {
   "display_name": "Python 3",
   "language": "python",
   "name": "python3"
  },
  "language_info": {
   "codemirror_mode": {
    "name": "ipython",
    "version": 3
   },
   "file_extension": ".py",
   "mimetype": "text/x-python",
   "name": "python",
   "nbconvert_exporter": "python",
   "pygments_lexer": "ipython3",
   "version": "3.6.4"
  }
 },
 "nbformat": 4,
 "nbformat_minor": 2
}
