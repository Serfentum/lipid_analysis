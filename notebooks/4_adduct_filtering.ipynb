{
 "cells": [
  {
   "cell_type": "markdown",
   "metadata": {},
   "source": [
    "# Cleaning from adducts\n",
    "Getting rid of adduct peaks\n",
    "#TODO SHOULD BE REWRITTEN - I think, I did it wrong  \n",
    "Moreover it's not been finished due to the absence of adducts"
   ]
  },
  {
   "cell_type": "code",
   "execution_count": 1,
   "metadata": {},
   "outputs": [],
   "source": [
    "import numpy as np\n",
    "import pandas as pd\n",
    "import re"
   ]
  },
  {
   "cell_type": "code",
   "execution_count": 335,
   "metadata": {},
   "outputs": [],
   "source": [
    "# Find whether mz difference between peaks in 1 pcgroup is less than 0.0001\n",
    "# If so they are considered as adducts\n",
    "# Also find number of peaks in pcgroup\n",
    "eq_mass_adducts = data_wo_isotopes.groupby(['pcgroup'])\\\n",
    "                        .agg({'mz': lambda x: np.abs(x.max() - x.min()) < 0.0001, \n",
    "                              'rt': lambda x: x.count()})"
   ]
  },
  {
   "cell_type": "code",
   "execution_count": 336,
   "metadata": {},
   "outputs": [
    {
     "data": {
      "text/plain": [
       "False"
      ]
     },
     "execution_count": 336,
     "metadata": {},
     "output_type": "execute_result"
    }
   ],
   "source": [
    "# If mass difference lesser than threshold and there are several peaks in group\n",
    "# We will choose only ones with higher intensity\n",
    "((eq_mass_adducts['rt'] > 1) & eq_mass_adducts['mz']).any()\n",
    "\n",
    "# But there is no such peaks"
   ]
  },
  {
   "cell_type": "code",
   "execution_count": null,
   "metadata": {},
   "outputs": [],
   "source": []
  }
 ],
 "metadata": {
  "kernelspec": {
   "display_name": "Python 3",
   "language": "python",
   "name": "python3"
  },
  "language_info": {
   "codemirror_mode": {
    "name": "ipython",
    "version": 3
   },
   "file_extension": ".py",
   "mimetype": "text/x-python",
   "name": "python",
   "nbconvert_exporter": "python",
   "pygments_lexer": "ipython3",
   "version": "3.6.4"
  }
 },
 "nbformat": 4,
 "nbformat_minor": 2
}
