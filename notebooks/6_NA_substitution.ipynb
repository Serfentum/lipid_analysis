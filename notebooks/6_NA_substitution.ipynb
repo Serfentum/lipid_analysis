{
 "cells": [
  {
   "cell_type": "markdown",
   "metadata": {},
   "source": [
    "# NA substitution\n",
    "Fill missing intensities with some values and drop peaks with too many NA\n",
    "#TODO: Should be replaced with better method"
   ]
  },
  {
   "cell_type": "code",
   "execution_count": 1,
   "metadata": {},
   "outputs": [],
   "source": [
    "import numpy as np\n",
    "import pandas as pd"
   ]
  },
  {
   "cell_type": "code",
   "execution_count": 2,
   "metadata": {},
   "outputs": [],
   "source": [
    "%run 2_columns_part.ipynb"
   ]
  },
  {
   "cell_type": "code",
   "execution_count": 139,
   "metadata": {},
   "outputs": [],
   "source": [
    "def remove_na_peaks(df, fraction=1):\n",
    "    \"\"\"\n",
    "    Remove peaks which have no values in samples and qc. Need predefined constant samples_wo_controls_qc\n",
    "    :param df: df - dataframe to clean\n",
    "    :param fraction: float - threshold of tolerable NA portion for peak\n",
    "    :return: df - cleaned from empty peaks dataframe\n",
    "    \"\"\"\n",
    "    # Find peaks which contain NA more than provided fraction in samples and qc\n",
    "    too_many_na = df[samples_wo_controls_qc].isna().sum(axis=1) / df[samples_wo_controls_qc].shape[1] > fraction\n",
    "    na_peaks = too_many_na[too_many_na].index\n",
    "\n",
    "    # Get rid of these peaks\n",
    "    df = df.drop(na_peaks)\n",
    "    return df"
   ]
  },
  {
   "cell_type": "code",
   "execution_count": 140,
   "metadata": {},
   "outputs": [],
   "source": [
    "def substitute_na_min(df):\n",
    "    \"\"\"\n",
    "    Substitute NA with values. Need predefined constant samples_wo_controls_qc\n",
    "    :param df: df - dataframe to clean\n",
    "    :return: df - dataframe with values in sample area\n",
    "    \"\"\"\n",
    "    df = df.copy()\n",
    "    \n",
    "    # Fill NA with 0.5 * min(sample) in rows with intensities\n",
    "    df[samples_wo_controls_qc] = df[samples_wo_controls_qc].apply(lambda xs: xs.fillna(xs.min() / 2), axis=1)\n",
    "    return df"
   ]
  },
  {
   "cell_type": "markdown",
   "metadata": {},
   "source": [
    "There is a 796 peaks which had NA in all samples except controls. I'll drop them."
   ]
  },
  {
   "cell_type": "code",
   "execution_count": 142,
   "metadata": {},
   "outputs": [
    {
     "data": {
      "text/plain": [
       "506422"
      ]
     },
     "execution_count": 142,
     "metadata": {},
     "output_type": "execute_result"
    }
   ],
   "source": [
    "df[samples_wo_controls_qc].isna().sum().sum()"
   ]
  },
  {
   "cell_type": "code",
   "execution_count": 143,
   "metadata": {},
   "outputs": [
    {
     "name": "stdout",
     "output_type": "stream",
     "text": [
      "49487 0\n",
      "0 0\n"
     ]
    }
   ],
   "source": [
    "df = remove_na_peaks(df, 0.5)\n",
    "print(df[samples_wo_controls_qc].isna().sum().sum(), df[samples_wo_controls_qc].isna().all(axis=1).sum())\n",
    "df = substitute_na(df)\n",
    "print(df[samples_wo_controls_qc].isna().sum().sum(), df[samples_wo_controls_qc].isna().all(axis=1).sum())"
   ]
  },
  {
   "cell_type": "code",
   "execution_count": 145,
   "metadata": {},
   "outputs": [
    {
     "data": {
      "text/plain": [
       "(4233, 142)"
      ]
     },
     "execution_count": 145,
     "metadata": {},
     "output_type": "execute_result"
    }
   ],
   "source": [
    "df.shape"
   ]
  },
  {
   "cell_type": "code",
   "execution_count": 141,
   "metadata": {},
   "outputs": [
    {
     "data": {
      "text/plain": [
       "796"
      ]
     },
     "execution_count": 141,
     "metadata": {},
     "output_type": "execute_result"
    }
   ],
   "source": [
    "df[samples_wo_controls_qc].isna().all(axis=1).sum()"
   ]
  },
  {
   "cell_type": "markdown",
   "metadata": {},
   "source": [
    "## Example of usage with writing substituted dataset"
   ]
  },
  {
   "cell_type": "code",
   "execution_count": 110,
   "metadata": {},
   "outputs": [
    {
     "name": "stderr",
     "output_type": "stream",
     "text": [
      "/home/arleg/anaconda3/lib/python3.6/site-packages/IPython/core/interactiveshell.py:2728: DtypeWarning: Columns (140) have mixed types. Specify dtype option on import or set low_memory=False.\n",
      "  interactivity=interactivity, compiler=compiler, result=result)\n"
     ]
    }
   ],
   "source": [
    "# Load data\n",
    "name = 'cleaned_control_cleaned_isotopes_cleaned_contaminants_xs_annotated_rats_neg.csv'\n",
    "df = pd.read_csv(name, index_col=0)"
   ]
  },
  {
   "cell_type": "code",
   "execution_count": 103,
   "metadata": {},
   "outputs": [],
   "source": [
    "# Remove fully NA peaks\n",
    "df = remove_na_peaks(df)\n",
    "# Substitute NA\n",
    "df = substitute_na(df)\n",
    "\n",
    "# Write to a file\n",
    "df.to_csv(f'substituted_NA_{name}')"
   ]
  }
 ],
 "metadata": {
  "kernelspec": {
   "display_name": "Python 3",
   "language": "python",
   "name": "python3"
  },
  "language_info": {
   "codemirror_mode": {
    "name": "ipython",
    "version": 3
   },
   "file_extension": ".py",
   "mimetype": "text/x-python",
   "name": "python",
   "nbconvert_exporter": "python",
   "pygments_lexer": "ipython3",
   "version": "3.6.4"
  }
 },
 "nbformat": 4,
 "nbformat_minor": 2
}
