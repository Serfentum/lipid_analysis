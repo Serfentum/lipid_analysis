{
 "cells": [
  {
   "cell_type": "markdown",
   "metadata": {},
   "source": [
    "# Cleaning from isotopes\n",
    "Getting rid of duplicates peak with different mz due to isotope inclusion"
   ]
  },
  {
   "cell_type": "code",
   "execution_count": 1,
   "metadata": {},
   "outputs": [],
   "source": [
    "import numpy as np\n",
    "import pandas as pd\n",
    "import re"
   ]
  },
  {
   "cell_type": "code",
   "execution_count": 26,
   "metadata": {},
   "outputs": [],
   "source": [
    "%run 2_columns_part.ipynb"
   ]
  },
  {
   "cell_type": "code",
   "execution_count": 40,
   "metadata": {},
   "outputs": [],
   "source": [
    "def purge_isotopes(df):\n",
    "    \"\"\"\n",
    "    Delete isotopic peaks with lower intensity from dataset - peaks are rows and mz, rt, samples are columns\n",
    "    :param df: df - dataframe to clean\n",
    "    :return: df - cleaned from contaminants dataframe\n",
    "    \"\"\"\n",
    "    # Parse isotopes column and extract id of peak and isotope type\n",
    "    df[['id', 'type']] = df['isotopes'].str.extract(r'\\[(?P<id>\\d+)\\]\\[(?P<type>.+)\\]', expand=True)\n",
    "    \n",
    "    # Get indices of appropriate peaks\n",
    "    ind = df.groupby('id').apply(isotop_chose).values\n",
    "    \n",
    "    # Obtain df without redundant isotope peaks which had isotope alternatives\n",
    "    data_wo_isotopes = df.loc[ind]\n",
    "    # Obtain df with peaks without isotope alternatives\n",
    "    data_wo_isotopes_na = df[df['id'].isna()]\n",
    "    \n",
    "    # Unite dfs to one\n",
    "    cleaned = pd.concat([data_wo_isotopes, data_wo_isotopes_na])\n",
    "    \n",
    "    # Delete obsolete columns\n",
    "    cleaned.drop(['id', 'type'], axis=1, inplace=True)\n",
    "    return cleaned\n",
    "    \n",
    "    \n",
    "def isotop_chose(group):\n",
    "    \"\"\"\n",
    "    Return index of peak with greatest fraction of maximal concentration from group.\n",
    "    samples here is a subset of columns (which contains peaks) which should be processed\n",
    "    :param group: df - group of grouped df\n",
    "    :return: index - indices of appropriate peaks\n",
    "    \"\"\"\n",
    "    index = (group[samples] == group[samples].max(axis=0)).sum(axis=1).idxmax()\n",
    "    return index"
   ]
  },
  {
   "cell_type": "markdown",
   "metadata": {},
   "source": [
    "## Example of usage with writing cleaned dataset"
   ]
  },
  {
   "cell_type": "code",
   "execution_count": 51,
   "metadata": {},
   "outputs": [],
   "source": [
    "# Load data\n",
    "name = 'cleaned_contaminants_xs_annotated_rats_neg.csv'\n",
    "df = pd.read_csv(name, index_col=0)\n",
    "\n",
    "# Purge  \n",
    "cleaned = purge_isotopes(df)\n",
    "# Write to file\n",
    "cleaned.to_csv(f'cleaned_isotopes_{name}')"
   ]
  }
 ],
 "metadata": {
  "kernelspec": {
   "display_name": "Python 3",
   "language": "python",
   "name": "python3"
  },
  "language_info": {
   "codemirror_mode": {
    "name": "ipython",
    "version": 3
   },
   "file_extension": ".py",
   "mimetype": "text/x-python",
   "name": "python",
   "nbconvert_exporter": "python",
   "pygments_lexer": "ipython3",
   "version": "3.6.4"
  }
 },
 "nbformat": 4,
 "nbformat_minor": 2
}
