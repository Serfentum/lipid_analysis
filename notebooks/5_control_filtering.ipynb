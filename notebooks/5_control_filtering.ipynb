{
 "cells": [
  {
   "cell_type": "markdown",
   "metadata": {},
   "source": [
    "# Filtering controls\n",
    "Substitute value in peaks with concentration less than in blank controls on NA"
   ]
  },
  {
   "cell_type": "code",
   "execution_count": 1,
   "metadata": {},
   "outputs": [],
   "source": [
    "import numpy as np\n",
    "import pandas as pd"
   ]
  },
  {
   "cell_type": "code",
   "execution_count": 1,
   "metadata": {},
   "outputs": [],
   "source": [
    "%run 2_columns_part.ipynb"
   ]
  },
  {
   "cell_type": "code",
   "execution_count": 32,
   "metadata": {},
   "outputs": [],
   "source": [
    "def purge_control(df):\n",
    "    dff = df.copy()\n",
    "    # Find maxima for each peak in all blank controls\n",
    "    maxima = dff[blanks].max(axis=1)\n",
    "    # Find samples where peaks' concentration less than their in blank\n",
    "    less_than_blank = dff[samples_wo_controls_qc].apply(lambda x: x < maxima)\n",
    "\n",
    "    # Purge observations with abundance less than blank one\n",
    "    # TODO: Substitute next line with \n",
    "#     dff.mask(less_than_blank)\n",
    "    dff[less_than_blank] = np.nan\n",
    "    return dff"
   ]
  },
  {
   "cell_type": "markdown",
   "metadata": {},
   "source": [
    "## Example of usage with writing cleaned dataset"
   ]
  },
  {
   "cell_type": "code",
   "execution_count": 41,
   "metadata": {},
   "outputs": [],
   "source": [
    "# Load data\n",
    "name = 'cleaned_isotopes_cleaned_contaminants_xs_annotated_rats_neg.csv'\n",
    "df = pd.read_csv(name, index_col=0)\n",
    "\n",
    "# Purge\n",
    "df = purge_control(df)\n",
    "# Write to a file\n",
    "df.to_csv(f'cleaned_control_{name}')"
   ]
  }
 ],
 "metadata": {
  "kernelspec": {
   "display_name": "Python 3",
   "language": "python",
   "name": "python3"
  },
  "language_info": {
   "codemirror_mode": {
    "name": "ipython",
    "version": 3
   },
   "file_extension": ".py",
   "mimetype": "text/x-python",
   "name": "python",
   "nbconvert_exporter": "python",
   "pygments_lexer": "ipython3",
   "version": "3.6.4"
  }
 },
 "nbformat": 4,
 "nbformat_minor": 2
}
